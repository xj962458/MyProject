{
 "cells": [
  {
   "cell_type": "code",
   "execution_count": 27,
   "metadata": {
    "execution": {
     "iopub.execute_input": "2022-09-19T07:14:57.798327Z",
     "iopub.status.busy": "2022-09-19T07:14:57.797625Z",
     "iopub.status.idle": "2022-09-19T07:14:57.806153Z",
     "shell.execute_reply": "2022-09-19T07:14:57.804751Z",
     "shell.execute_reply.started": "2022-09-19T07:14:57.798267Z"
    },
    "pycharm": {
     "name": "#%%\n"
    },
    "tags": []
   },
   "outputs": [],
   "source": [
    "import matplotlib.pyplot as plt\n",
    "import numpy\n",
    "import pandas as pd"
   ]
  },
  {
   "cell_type": "code",
   "execution_count": null,
   "outputs": [],
   "source": [
    "data = pd.read_csv(\"./data/diabetes.csv\")\n",
    "print(\"dataset shape{}\".format(data.shape))\n",
    "data.head()"
   ],
   "metadata": {
    "collapsed": false,
    "pycharm": {
     "name": "#%%\n"
    }
   }
  },
  {
   "cell_type": "code",
   "execution_count": null,
   "outputs": [],
   "source": [
    "data.groupby(\"Outcome\").size()"
   ],
   "metadata": {
    "collapsed": false,
    "pycharm": {
     "name": "#%%\n"
    }
   }
  },
  {
   "cell_type": "code",
   "execution_count": null,
   "outputs": [],
   "source": [
    "X = data.iloc[:, 0:8]\n",
    "Y = data.iloc[:, 8]\n",
    "print(\"shape of X {}; shape of Y {}\".format(X.shape, Y.shape))"
   ],
   "metadata": {
    "collapsed": false,
    "pycharm": {
     "name": "#%%\n"
    }
   }
  },
  {
   "cell_type": "code",
   "execution_count": null,
   "outputs": [],
   "source": [
    "from sklearn.model_selection import train_test_split\n",
    "\n",
    "X_train, X_test, Y_train, Y_test = train_test_split(X, Y, test_size=0.2)"
   ],
   "metadata": {
    "collapsed": false,
    "pycharm": {
     "name": "#%%\n"
    }
   }
  },
  {
   "cell_type": "code",
   "execution_count": null,
   "outputs": [],
   "source": [
    "from sklearn.neighbors import KNeighborsClassifier, RadiusNeighborsClassifier\n",
    "\n",
    "models = []\n",
    "models.append((\"KNN\", KNeighborsClassifier(n_neighbors=2)))\n",
    "models.append(\n",
    "    (\"KNN with weights\", KNeighborsClassifier(n_neighbors=2, weights=\"distance\"))\n",
    ")\n",
    "models.append((\"Radius Neighbors\", RadiusNeighborsClassifier(radius=500.0)))"
   ],
   "metadata": {
    "collapsed": false,
    "pycharm": {
     "name": "#%%\n"
    }
   }
  },
  {
   "cell_type": "code",
   "execution_count": null,
   "outputs": [],
   "source": [
    "results = []\n",
    "for name, model in models:\n",
    "    model.fit(X_train, Y_train)\n",
    "    results.append((name, model.score(X_test, Y_test)))\n",
    "for i in range(len(results)):\n",
    "    print(\"name: {};score: {}\".format(results[i][0], results[i][1]))"
   ],
   "metadata": {
    "collapsed": false,
    "pycharm": {
     "name": "#%%\n"
    }
   }
  },
  {
   "cell_type": "code",
   "execution_count": null,
   "outputs": [],
   "source": [
    "from sklearn.model_selection import KFold, cross_val_score\n",
    "\n",
    "results = []\n",
    "for name, model in models:\n",
    "    kfold = KFold(n_splits=10)\n",
    "    cv_result = cross_val_score(model, X, Y, cv=kfold)\n",
    "    results.append((name, cv_result))\n",
    "for i in range(len(results)):\n",
    "    print(\"name: {};cross val score: {}\".format(results[i][0], results[i][1].mean()))"
   ],
   "metadata": {
    "collapsed": false,
    "pycharm": {
     "name": "#%%\n"
    }
   }
  },
  {
   "cell_type": "code",
   "execution_count": null,
   "outputs": [],
   "source": [
    "knn = KNeighborsClassifier(n_neighbors=2)\n",
    "knn.fit(X_train, Y_train)\n",
    "train_score = knn.score(X_train, Y_train)\n",
    "test_score = knn.score(X_test, Y_test)\n",
    "print(\"train score: {};test score: {}\".format(train_score, test_score))"
   ],
   "metadata": {
    "collapsed": false,
    "pycharm": {
     "name": "#%%\n"
    }
   }
  },
  {
   "cell_type": "code",
   "execution_count": null,
   "outputs": [],
   "source": [
    "from common.utils import plot_learning_curve\n",
    "from sklearn.model_selection import ShuffleSplit\n",
    "\n",
    "knn = KNeighborsClassifier(n_neighbors=2)\n",
    "cv = ShuffleSplit(n_splits=10, test_size=0.2, random_state=0)\n",
    "plt.figure(figsize=(10, 6))\n",
    "plot_learning_curve(knn, \"Learn Curve for KNN Diabetes\", X, Y, ylim=(0.0, 1.01), cv=cv)\n",
    "plt.show()"
   ],
   "metadata": {
    "collapsed": false,
    "pycharm": {
     "name": "#%%\n"
    }
   }
  },
  {
   "cell_type": "code",
   "execution_count": null,
   "outputs": [],
   "source": [
    "from sklearn.feature_selection import SelectKBest\n",
    "\n",
    "selector = SelectKBest(k=2)\n",
    "X_new = selector.fit_transform(X, Y)\n",
    "X_new[0:5]"
   ],
   "metadata": {
    "collapsed": false,
    "pycharm": {
     "name": "#%%\n"
    }
   }
  },
  {
   "cell_type": "code",
   "execution_count": null,
   "outputs": [],
   "source": [
    "results = []\n",
    "for name, model in models:\n",
    "    kfold = KFold(n_splits=10)\n",
    "    cv_result = cross_val_score(model, X_new, Y, cv=kfold)\n",
    "    results.append((name, cv_result[0]))\n",
    "for i in range(len(results)):\n",
    "    print(\"name: {};cross val score: {}\".format(results[i][0], results[i][1].mean()))"
   ],
   "metadata": {
    "collapsed": false,
    "pycharm": {
     "name": "#%%\n"
    }
   }
  },
  {
   "cell_type": "code",
   "execution_count": null,
   "outputs": [],
   "source": [
    "plt.figure(figsize=(10, 6))\n",
    "plt.ylabel(\"BMI\")\n",
    "plt.xlabel(\"Glucose\")\n",
    "plt.scatter(X_new[Y == 0][:, 0], X_new[Y == 0][:, 1], c=\"r\", s=20, marker=\"o\")\n",
    "plt.scatter(X_new[Y == 1][:, 0], X_new[Y == 1][:, 1], c=\"g\", s=20, marker=\"^\")"
   ],
   "metadata": {
    "collapsed": false,
    "pycharm": {
     "name": "#%%\n"
    }
   }
  }
 ],
 "metadata": {
  "kernelspec": {
   "display_name": "Python 3 (ipykernel)",
   "language": "python",
   "name": "python3"
  },
  "language_info": {
   "codemirror_mode": {
    "name": "ipython",
    "version": 3
   },
   "file_extension": ".py",
   "mimetype": "text/x-python",
   "name": "python",
   "nbconvert_exporter": "python",
   "pygments_lexer": "ipython3",
   "version": "3.9.12"
  },
  "vscode": {
   "interpreter": {
    "hash": "19d1d53a962d236aa061289c2ac16dc8e6d9648c89fe79f459ae9a3493bc67b4"
   }
  },
  "widgets": {
   "application/vnd.jupyter.widget-state+json": {
    "state": {},
    "version_major": 2,
    "version_minor": 0
   }
  }
 },
 "nbformat": 4,
 "nbformat_minor": 4
}