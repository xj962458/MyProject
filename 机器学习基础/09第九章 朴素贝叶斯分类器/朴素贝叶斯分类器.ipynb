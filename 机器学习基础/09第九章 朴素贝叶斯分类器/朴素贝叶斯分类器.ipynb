{
 "cells": [
  {
   "cell_type": "markdown",
   "metadata": {
    "pycharm": {
     "name": "#%% md\n"
    }
   },
   "source": [
    "# 任务：使用朴素贝叶斯过滤垃圾邮件。"
   ]
  },
  {
   "cell_type": "markdown",
   "metadata": {
    "pycharm": {
     "name": "#%% md\n"
    }
   },
   "source": [
    "## 1、加载数据"
   ]
  },
  {
   "cell_type": "code",
   "execution_count": 7,
   "metadata": {
    "collapsed": false,
    "execution": {
     "iopub.execute_input": "2022-09-19T07:18:53.910020Z",
     "iopub.status.busy": "2022-09-19T07:18:53.909120Z",
     "iopub.status.idle": "2022-09-19T07:18:53.919249Z",
     "shell.execute_reply": "2022-09-19T07:18:53.918003Z",
     "shell.execute_reply.started": "2022-09-19T07:18:53.909955Z"
    },
    "jupyter": {
     "outputs_hidden": false
    },
    "pycharm": {
     "name": "#%%\n"
    },
    "tags": []
   },
   "outputs": [],
   "source": [
    "import re\n",
    "\n",
    "\n",
    "# 切割分类文本\n",
    "def textParse(bigString):\n",
    "    listOfTokens = re.split(\"\\W+\", bigString)\n",
    "    return [tok.lower() for tok in listOfTokens if len(tok) > 2]"
   ]
  },
  {
   "cell_type": "code",
   "execution_count": 8,
   "metadata": {
    "execution": {
     "iopub.execute_input": "2022-09-19T07:18:53.923247Z",
     "iopub.status.busy": "2022-09-19T07:18:53.922568Z",
     "iopub.status.idle": "2022-09-19T07:18:53.943072Z",
     "shell.execute_reply": "2022-09-19T07:18:53.942047Z",
     "shell.execute_reply.started": "2022-09-19T07:18:53.923193Z"
    },
    "pycharm": {
     "name": "#%%\n"
    }
   },
   "outputs": [
    {
     "name": "stdout",
     "output_type": "stream",
     "text": [
      "['experience', 'with', 'biggerpenis', 'today', 'grow', 'inches', 'more', 'the', 'safest', 'most', 'effective', 'methods', 'of_penisen1argement', 'save', 'your', 'time', 'and', 'money', 'bettererections', 'with', 'effective', 'ma1eenhancement', 'products', 'ma1eenhancement', 'supplement', 'trusted', 'millions', 'buy', 'today']\n"
     ]
    }
   ],
   "source": [
    "docList = []\n",
    "classList = []\n",
    "fullText = []\n",
    "\n",
    "# 每次访问一条RSS源\n",
    "for i in range(1, 26):\n",
    "    wordList = textParse(\n",
    "        open(\"./data/email/ham/{}.txt\".format(i), \"r\", encoding=\"ISO-8859-1\").read()\n",
    "    )\n",
    "    docList.append(wordList)\n",
    "    classList.append(1)  # NY is class 1\n",
    "    wordList = textParse(\n",
    "        open(\"./data/email/spam/{}.txt\".format(i), \"r\", encoding=\"ISO-8859-1\").read()\n",
    "    )\n",
    "    docList.append(wordList)\n",
    "    classList.append(0)\n",
    "for i in range(len(docList)):\n",
    "    docList[i] = \" \".join(docList[i])\n",
    "print(wordList)"
   ]
  },
  {
   "cell_type": "code",
   "execution_count": 9,
   "metadata": {
    "execution": {
     "iopub.execute_input": "2022-09-19T07:18:53.945941Z",
     "iopub.status.busy": "2022-09-19T07:18:53.945294Z",
     "iopub.status.idle": "2022-09-19T07:18:53.959814Z",
     "shell.execute_reply": "2022-09-19T07:18:53.958856Z",
     "shell.execute_reply.started": "2022-09-19T07:18:53.945896Z"
    },
    "pycharm": {
     "name": "#%%\n"
    }
   },
   "outputs": [],
   "source": [
    "from sklearn.feature_extraction.text import CountVectorizer\n",
    "from sklearn.model_selection import train_test_split\n",
    "\n",
    "x_train, x_test, y_train, y_test = train_test_split(docList, classList, test_size=0.2)\n",
    "vec = CountVectorizer()\n",
    "# 用fit_ trainsform先对文本拟合再将其转换为向量\n",
    "X_train = vec.fit_transform(x_train)\n",
    "X_test = vec.transform(x_test)"
   ]
  },
  {
   "cell_type": "markdown",
   "metadata": {
    "pycharm": {
     "name": "#%% md\n"
    }
   },
   "source": [
    "## 2、训练模型"
   ]
  },
  {
   "cell_type": "code",
   "execution_count": 10,
   "metadata": {
    "execution": {
     "iopub.execute_input": "2022-09-19T07:18:53.963307Z",
     "iopub.status.busy": "2022-09-19T07:18:53.962746Z",
     "iopub.status.idle": "2022-09-19T07:18:53.971693Z",
     "shell.execute_reply": "2022-09-19T07:18:53.970814Z",
     "shell.execute_reply.started": "2022-09-19T07:18:53.963268Z"
    },
    "pycharm": {
     "name": "#%%\n"
    }
   },
   "outputs": [],
   "source": [
    "# 使用朴素贝叶斯训练模型：\n",
    "from sklearn.naive_bayes import MultinomialNB\n",
    "\n",
    "clf = MultinomialNB()\n",
    "clf.fit(X_train, y_train)\n",
    "pred = clf.predict(X_test)"
   ]
  },
  {
   "cell_type": "markdown",
   "metadata": {
    "pycharm": {
     "name": "#%% md\n"
    }
   },
   "source": [
    "## 3、评估模型"
   ]
  },
  {
   "cell_type": "code",
   "execution_count": 11,
   "metadata": {
    "execution": {
     "iopub.execute_input": "2022-09-19T07:18:53.974143Z",
     "iopub.status.busy": "2022-09-19T07:18:53.973595Z",
     "iopub.status.idle": "2022-09-19T07:18:53.988609Z",
     "shell.execute_reply": "2022-09-19T07:18:53.987814Z",
     "shell.execute_reply.started": "2022-09-19T07:18:53.974107Z"
    },
    "pycharm": {
     "name": "#%%\n"
    }
   },
   "outputs": [
    {
     "name": "stdout",
     "output_type": "stream",
     "text": [
      "confusion_matrix:\n",
      "[[5 0]\n",
      " [0 5]]\n",
      "classification report\n",
      "              precision    recall  f1-score   support\n",
      "\n",
      "           0       1.00      1.00      1.00         5\n",
      "           1       1.00      1.00      1.00         5\n",
      "\n",
      "    accuracy                           1.00        10\n",
      "   macro avg       1.00      1.00      1.00        10\n",
      "weighted avg       1.00      1.00      1.00        10\n",
      "\n",
      "accuracy_score:1.000\n"
     ]
    }
   ],
   "source": [
    "from sklearn.metrics import accuracy_score, classification_report, confusion_matrix\n",
    "\n",
    "print(\"confusion_matrix:\")\n",
    "cm = confusion_matrix(y_test, pred)\n",
    "print(cm)\n",
    "print(\"classification report\")\n",
    "cr = classification_report(y_test, pred)\n",
    "print(cr)\n",
    "print(\"accuracy_score:%.3f\" % accuracy_score(y_test, pred))"
   ]
  },
  {
   "cell_type": "code",
   "execution_count": 12,
   "metadata": {
    "execution": {
     "iopub.execute_input": "2022-09-19T07:18:53.990699Z",
     "iopub.status.busy": "2022-09-19T07:18:53.990183Z",
     "iopub.status.idle": "2022-09-19T07:18:54.335979Z",
     "shell.execute_reply": "2022-09-19T07:18:54.335044Z",
     "shell.execute_reply.started": "2022-09-19T07:18:53.990664Z"
    },
    "pycharm": {
     "name": "#%%\n"
    },
    "tags": []
   },
   "outputs": [
    {
     "data": {
      "text/plain": [
       "<matplotlib.colorbar.Colorbar at 0x7fd4c70e69a0>"
      ]
     },
     "execution_count": 12,
     "metadata": {},
     "output_type": "execute_result"
    },
    {
     "data": {
      "image/png": "[encoded data removed]",
      "text/plain": [
       "<Figure size 640x480 with 3 Axes>"
      ]
     },
     "metadata": {},
     "output_type": "display_data"
    }
   ],
   "source": [
    "import matplotlib.pyplot as plt\n",
    "\n",
    "plt.title(\"Confusion Matrix\")\n",
    "ax = plt.gca()\n",
    "ax.spines[\"right\"].set_color(\"none\")\n",
    "ax.spines[\"top\"].set_color(\"none\")\n",
    "ax.spines[\"bottom\"].set_color(\"none\")\n",
    "ax.spines[\"left\"].set_color(\"none\")\n",
    "ax.xaxis.set_ticks_position(\"none\")\n",
    "ax.yaxis.set_ticks_position(\"none\")\n",
    "ax.set_xticklabels([])\n",
    "ax.set_xticklabels([])\n",
    "plt.matshow(cm, fignum=1, cmap=\"gray\")\n",
    "plt.colorbar()"
   ]
  }
 ],
 "metadata": {
  "kernelspec": {
   "display_name": "Python 3 (ipykernel)",
   "language": "python",
   "name": "python3"
  },
  "language_info": {
   "codemirror_mode": {
    "name": "ipython",
    "version": 3
   },
   "file_extension": ".py",
   "mimetype": "text/x-python",
   "name": "python",
   "nbconvert_exporter": "python",
   "pygments_lexer": "ipython3",
   "version": "3.9.12"
  },
  "vscode": {
   "interpreter": {
    "hash": "19d1d53a962d236aa061289c2ac16dc8e6d9648c89fe79f459ae9a3493bc67b4"
   }
  },
  "widgets": {
   "application/vnd.jupyter.widget-state+json": {
    "state": {},
    "version_major": 2,
    "version_minor": 0
   }
  }
 },
 "nbformat": 4,
 "nbformat_minor": 4
}
