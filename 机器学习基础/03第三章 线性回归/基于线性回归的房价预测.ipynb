{
 "cells": [
  {
   "cell_type": "markdown",
   "metadata": {
    "pycharm": {
     "name": "#%% md\n"
    }
   },
   "source": [
    "# 任务一\n",
    "从波士顿房价数据集中加载数据并且训练模型，用训练过的模型评估预测数据的精度。"
   ]
  },
  {
   "cell_type": "markdown",
   "metadata": {
    "pycharm": {
     "name": "#%% md\n"
    }
   },
   "source": [
    "## 1、加载数据"
   ]
  },
  {
   "cell_type": "code",
   "execution_count": 11,
   "metadata": {
    "execution": {
     "iopub.execute_input": "2022-09-19T07:15:53.683474Z",
     "iopub.status.busy": "2022-09-19T07:15:53.682764Z",
     "iopub.status.idle": "2022-09-19T07:15:53.726065Z",
     "shell.execute_reply": "2022-09-19T07:15:53.725003Z",
     "shell.execute_reply.started": "2022-09-19T07:15:53.683413Z"
    },
    "pycharm": {
     "name": "#%%\n"
    },
    "tags": []
   },
   "outputs": [
    {
     "data": {
      "text/html": [
       "<div>\n",
       "<style scoped>\n",
       "    .dataframe tbody tr th:only-of-type {\n",
       "        vertical-align: middle;\n",
       "    }\n",
       "\n",
       "    .dataframe tbody tr th {\n",
       "        vertical-align: top;\n",
       "    }\n",
       "\n",
       "    .dataframe thead th {\n",
       "        text-align: right;\n",
       "    }\n",
       "</style>\n",
       "<table border=\"1\" class=\"dataframe\">\n",
       "  <thead>\n",
       "    <tr style=\"text-align: right;\">\n",
       "      <th></th>\n",
       "      <th>CRIM</th>\n",
       "      <th>ZN</th>\n",
       "      <th>INDUS</th>\n",
       "      <th>CHAS</th>\n",
       "      <th>NOX</th>\n",
       "      <th>RM</th>\n",
       "      <th>AGE</th>\n",
       "      <th>DIS</th>\n",
       "      <th>RAD</th>\n",
       "      <th>TAX</th>\n",
       "      <th>PTRATIO</th>\n",
       "      <th>B</th>\n",
       "      <th>LSTAT</th>\n",
       "      <th>MEDV</th>\n",
       "    </tr>\n",
       "  </thead>\n",
       "  <tbody>\n",
       "    <tr>\n",
       "      <th>0</th>\n",
       "      <td>0.0063</td>\n",
       "      <td>18.0</td>\n",
       "      <td>2.31</td>\n",
       "      <td>0.0</td>\n",
       "      <td>0.538</td>\n",
       "      <td>6.575</td>\n",
       "      <td>65.2</td>\n",
       "      <td>4.09</td>\n",
       "      <td>1.0</td>\n",
       "      <td>296.0</td>\n",
       "      <td>15.3</td>\n",
       "      <td>396.9</td>\n",
       "      <td>4.98</td>\n",
       "      <td>24.0</td>\n",
       "    </tr>\n",
       "  </tbody>\n",
       "</table>\n",
       "</div>"
      ],
      "text/plain": [
       "     CRIM    ZN  INDUS  CHAS    NOX     RM   AGE   DIS  RAD    TAX  PTRATIO  \\\n",
       "0  0.0063  18.0   2.31   0.0  0.538  6.575  65.2  4.09  1.0  296.0     15.3   \n",
       "\n",
       "       B  LSTAT  MEDV  \n",
       "0  396.9   4.98  24.0  "
      ]
     },
     "execution_count": 11,
     "metadata": {},
     "output_type": "execute_result"
    }
   ],
   "source": [
    "import numpy as np\n",
    "import pandas as pd\n",
    "from abupy import AbuML\n",
    "from sklearn import datasets\n",
    "from sklearn.model_selection import train_test_split\n",
    "from sklearn.preprocessing import StandardScaler\n",
    "\n",
    "# 数据集\n",
    "scikit_boston = datasets.load_boston()\n",
    "x = scikit_boston.data\n",
    "y = scikit_boston.target\n",
    "df = pd.DataFrame(\n",
    "    data=np.c_[x, y], columns=np.append(scikit_boston.feature_names, [\"MEDV\"])\n",
    ")\n",
    "df.head(1)"
   ]
  },
  {
   "cell_type": "markdown",
   "metadata": {
    "pycharm": {
     "name": "#%% md\n"
    }
   },
   "source": [
    "## 2、训练模型"
   ]
  },
  {
   "cell_type": "code",
   "execution_count": 12,
   "metadata": {
    "execution": {
     "iopub.execute_input": "2022-09-19T07:15:53.729740Z",
     "iopub.status.busy": "2022-09-19T07:15:53.729118Z",
     "iopub.status.idle": "2022-09-19T07:15:53.744866Z",
     "shell.execute_reply": "2022-09-19T07:15:53.743861Z",
     "shell.execute_reply.started": "2022-09-19T07:15:53.729697Z"
    },
    "pycharm": {
     "name": "#%%\n"
    }
   },
   "outputs": [],
   "source": [
    "x_train, x_test, y_train, y_test = train_test_split(x, y, test_size=0.2)\n",
    "# 归一-化数据\n",
    "scaler = StandardScaler()\n",
    "x_train = scaler.fit_transform(x_train)\n",
    "x_test = scaler.fit_transform(x_test)\n",
    "# 模型训练\n",
    "df = pd.DataFrame(\n",
    "    data=np.c_[x_train, y_train],\n",
    "    columns=np.append(scikit_boston.feature_names, [\"MEDV\"]),\n",
    ")\n",
    "boston = AbuML(x_train, y_train, df)\n",
    "boston.estimator.polynomial_regression(degree=1)\n",
    "reg = boston.fit()"
   ]
  },
  {
   "cell_type": "markdown",
   "metadata": {
    "pycharm": {
     "name": "#%% md\n"
    }
   },
   "source": [
    "## 3、预测并评估模型"
   ]
  },
  {
   "cell_type": "code",
   "execution_count": 13,
   "metadata": {
    "execution": {
     "iopub.execute_input": "2022-09-19T07:15:53.747181Z",
     "iopub.status.busy": "2022-09-19T07:15:53.746409Z",
     "iopub.status.idle": "2022-09-19T07:15:53.754844Z",
     "shell.execute_reply": "2022-09-19T07:15:53.753622Z",
     "shell.execute_reply.started": "2022-09-19T07:15:53.747144Z"
    },
    "pycharm": {
     "name": "#%%\n"
    }
   },
   "outputs": [
    {
     "name": "stdout",
     "output_type": "stream",
     "text": [
      "最终结果为:0.7333393769589676\n"
     ]
    }
   ],
   "source": [
    "# 测试集上预测\n",
    "from sklearn.metrics import r2_score\n",
    "\n",
    "y_pred = reg.predict(x_test)\n",
    "score = r2_score(y_test, y_pred)\n",
    "print(\"最终结果为:{}\".format(score))"
   ]
  },
  {
   "cell_type": "markdown",
   "metadata": {
    "pycharm": {
     "name": "#%% md\n"
    }
   },
   "source": []
  },
  {
   "cell_type": "markdown",
   "metadata": {
    "pycharm": {
     "name": "#%% md\n"
    }
   },
   "source": [
    "# 任务二\n",
    "利用给出的另一个模拟数据集，实现可视化"
   ]
  },
  {
   "cell_type": "markdown",
   "metadata": {
    "pycharm": {
     "name": "#%% md\n"
    }
   },
   "source": [
    "## 1、加载数据"
   ]
  },
  {
   "cell_type": "code",
   "execution_count": 14,
   "metadata": {
    "execution": {
     "iopub.execute_input": "2022-09-19T07:15:53.757277Z",
     "iopub.status.busy": "2022-09-19T07:15:53.756504Z",
     "iopub.status.idle": "2022-09-19T07:15:53.764370Z",
     "shell.execute_reply": "2022-09-19T07:15:53.763139Z",
     "shell.execute_reply.started": "2022-09-19T07:15:53.757242Z"
    },
    "pycharm": {
     "name": "#%%\n"
    },
    "tags": []
   },
   "outputs": [],
   "source": [
    "import matplotlib\n",
    "import matplotlib.pyplot as plt\n",
    "import numpy as np\n",
    "from common import regression\n",
    "\n",
    "%matplotlib inline\n",
    "# % matplotlib inline # 在PyCharm、DataSpell等JetBrain软件中运行请注释掉该行"
   ]
  },
  {
   "cell_type": "code",
   "execution_count": 15,
   "metadata": {
    "execution": {
     "iopub.execute_input": "2022-09-19T07:15:53.767684Z",
     "iopub.status.busy": "2022-09-19T07:15:53.767197Z",
     "iopub.status.idle": "2022-09-19T07:15:53.775597Z",
     "shell.execute_reply": "2022-09-19T07:15:53.774363Z",
     "shell.execute_reply.started": "2022-09-19T07:15:53.767652Z"
    },
    "pycharm": {
     "name": "#%%\n"
    },
    "tags": []
   },
   "outputs": [],
   "source": [
    "def loadDataSet(fileName):  # general function to parse tab -delimited floats\n",
    "    numFeat = len(open(fileName).readline().split(\"\\t\")) - 1  # get number of fields\n",
    "    dataMat = []\n",
    "    labelMat = []\n",
    "    fr = open(fileName)\n",
    "    for line in fr.readlines():\n",
    "        lineArr = []\n",
    "        curLine = line.strip().split(\"\\t\")\n",
    "        for i in range(numFeat):\n",
    "            lineArr.append(float(curLine[i]))\n",
    "        dataMat.append(lineArr)\n",
    "        labelMat.append(float(curLine[-1]))\n",
    "    return dataMat, labelMat"
   ]
  },
  {
   "cell_type": "markdown",
   "metadata": {
    "pycharm": {
     "name": "#%% md\n"
    }
   },
   "source": [
    "## 2、建立模型"
   ]
  },
  {
   "cell_type": "code",
   "execution_count": 16,
   "metadata": {
    "execution": {
     "iopub.execute_input": "2022-09-19T07:15:53.777708Z",
     "iopub.status.busy": "2022-09-19T07:15:53.776932Z",
     "iopub.status.idle": "2022-09-19T07:15:53.783709Z",
     "shell.execute_reply": "2022-09-19T07:15:53.782720Z",
     "shell.execute_reply.started": "2022-09-19T07:15:53.777676Z"
    },
    "pycharm": {
     "name": "#%%\n"
    },
    "tags": []
   },
   "outputs": [],
   "source": [
    "# 定义标准线性回归\n",
    "def standRegres(xArr, yArr):\n",
    "    xMat = np.mat(xArr)\n",
    "    yMat = np.mat(yArr).T\n",
    "    xTx = xMat.T * xMat\n",
    "    if np.linalg.det(xTx) == 0.0:\n",
    "        print(\"This matrix is singular, cannot do inverse\")\n",
    "        return\n",
    "    ws = xTx.I * (xMat.T * yMat)\n",
    "    return ws"
   ]
  },
  {
   "cell_type": "markdown",
   "metadata": {
    "pycharm": {
     "name": "#%% md\n"
    }
   },
   "source": [
    "## 3、查看数据"
   ]
  },
  {
   "cell_type": "code",
   "execution_count": 17,
   "metadata": {
    "execution": {
     "iopub.execute_input": "2022-09-19T07:15:53.785359Z",
     "iopub.status.busy": "2022-09-19T07:15:53.785034Z",
     "iopub.status.idle": "2022-09-19T07:15:53.792826Z",
     "shell.execute_reply": "2022-09-19T07:15:53.792104Z",
     "shell.execute_reply.started": "2022-09-19T07:15:53.785330Z"
    },
    "pycharm": {
     "name": "#%%\n"
    },
    "tags": []
   },
   "outputs": [
    {
     "data": {
      "text/plain": [
       "[[1.0, 0.067732], [1.0, 0.42781]]"
      ]
     },
     "execution_count": 17,
     "metadata": {},
     "output_type": "execute_result"
    }
   ],
   "source": [
    "# 导入需要的实验数据集，并查看前两条数据\n",
    "xArr, yArr = regression.loadDataSet(\"./data/ex0.txt\")\n",
    "xArr[0:2]"
   ]
  },
  {
   "cell_type": "code",
   "execution_count": 18,
   "metadata": {
    "execution": {
     "iopub.execute_input": "2022-09-19T07:15:53.794532Z",
     "iopub.status.busy": "2022-09-19T07:15:53.794220Z",
     "iopub.status.idle": "2022-09-19T07:15:53.800440Z",
     "shell.execute_reply": "2022-09-19T07:15:53.799382Z",
     "shell.execute_reply.started": "2022-09-19T07:15:53.794503Z"
    },
    "pycharm": {
     "name": "#%%\n"
    }
   },
   "outputs": [],
   "source": [
    "# ws存放回归系数\n",
    "ws = regression.standRegres(xArr, yArr)\n",
    "xMat = np.mat(xArr)\n",
    "yMat = np.mat(yArr)\n",
    "yHat = xMat * ws"
   ]
  },
  {
   "cell_type": "markdown",
   "metadata": {
    "pycharm": {
     "name": "#%% md\n"
    }
   },
   "source": [
    "## 4、显示由数据形成的点阵"
   ]
  },
  {
   "cell_type": "code",
   "execution_count": 19,
   "metadata": {
    "execution": {
     "iopub.execute_input": "2022-09-19T07:15:53.802181Z",
     "iopub.status.busy": "2022-09-19T07:15:53.801741Z",
     "iopub.status.idle": "2022-09-19T07:15:54.044501Z",
     "shell.execute_reply": "2022-09-19T07:15:54.043698Z",
     "shell.execute_reply.started": "2022-09-19T07:15:53.802152Z"
    },
    "pycharm": {
     "name": "#%%\n"
    }
   },
   "outputs": [
    {
     "data": {
      "text/plain": [
       "<matplotlib.collections.PathCollection at 0x7fad296e47f0>"
      ]
     },
     "execution_count": 19,
     "metadata": {},
     "output_type": "execute_result"
    },
    {
     "data": {
      "image/png": "[encoded data removed]",
      "text/plain": [
       "<Figure size 1400x700 with 1 Axes>"
      ]
     },
     "metadata": {},
     "output_type": "display_data"
    }
   ],
   "source": [
    "plt.scatter(xMat[:, 1].flatten().A[0], yMat.T[:, 0].flatten().A[0])"
   ]
  },
  {
   "cell_type": "markdown",
   "metadata": {
    "pycharm": {
     "name": "#%% md\n"
    }
   },
   "source": [
    "## 5、显示回归线"
   ]
  },
  {
   "cell_type": "code",
   "execution_count": 20,
   "metadata": {
    "execution": {
     "iopub.execute_input": "2022-09-19T07:15:54.045766Z",
     "iopub.status.busy": "2022-09-19T07:15:54.045530Z",
     "iopub.status.idle": "2022-09-19T07:15:54.276924Z",
     "shell.execute_reply": "2022-09-19T07:15:54.276145Z",
     "shell.execute_reply.started": "2022-09-19T07:15:54.045745Z"
    },
    "pycharm": {
     "name": "#%%\n"
    },
    "tags": []
   },
   "outputs": [
    {
     "data": {
      "text/plain": [
       "[<matplotlib.lines.Line2D at 0x7fad296d9730>]"
      ]
     },
     "execution_count": 20,
     "metadata": {},
     "output_type": "execute_result"
    },
    {
     "data": {
      "image/png": "[encoded data removed]",
      "text/plain": [
       "<Figure size 1400x700 with 1 Axes>"
      ]
     },
     "metadata": {},
     "output_type": "display_data"
    }
   ],
   "source": [
    "xCopy = xMat.copy()\n",
    "xCopy.sort(0)\n",
    "yHat = xCopy * ws\n",
    "plt.scatter(xMat[:, 1].flatten().A[0], yMat.T[:, 0].flatten().A[0])\n",
    "plt.plot(xCopy[:, 1], yHat)"
   ]
  }
 ],
 "metadata": {
  "kernelspec": {
   "display_name": "Python 3 (ipykernel)",
   "language": "python",
   "name": "python3"
  },
  "language_info": {
   "codemirror_mode": {
    "name": "ipython",
    "version": 3
   },
   "file_extension": ".py",
   "mimetype": "text/x-python",
   "name": "python",
   "nbconvert_exporter": "python",
   "pygments_lexer": "ipython3",
   "version": "3.9.12"
  },
  "vscode": {
   "interpreter": {
    "hash": "19d1d53a962d236aa061289c2ac16dc8e6d9648c89fe79f459ae9a3493bc67b4"
   }
  },
  "widgets": {
   "application/vnd.jupyter.widget-state+json": {
    "state": {},
    "version_major": 2,
    "version_minor": 0
   }
  }
 },
 "nbformat": 4,
 "nbformat_minor": 4
}
