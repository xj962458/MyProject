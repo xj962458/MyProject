{
 "cells": [
  {
   "cell_type": "markdown",
   "metadata": {
    "pycharm": {
     "name": "#%% md\n"
    }
   },
   "source": [
    "## 任务一\n",
    "使用Logistic回归，对马未能存活与疝气病的关系进行预测，导入测试集并计算分类错误率。"
   ]
  },
  {
   "cell_type": "markdown",
   "metadata": {
    "pycharm": {
     "name": "#%% md\n"
    }
   },
   "source": [
    "## 1、加载数据"
   ]
  },
  {
   "cell_type": "code",
   "execution_count": 1,
   "metadata": {
    "execution": {
     "iopub.execute_input": "2022-09-19T07:15:59.464937Z",
     "iopub.status.busy": "2022-09-19T07:15:59.464058Z",
     "iopub.status.idle": "2022-09-19T07:15:59.597787Z",
     "shell.execute_reply": "2022-09-19T07:15:59.596826Z",
     "shell.execute_reply.started": "2022-09-19T07:15:59.464783Z"
    },
    "pycharm": {
     "name": "#%%\n"
    },
    "tags": []
   },
   "outputs": [],
   "source": [
    "from numpy import *"
   ]
  },
  {
   "cell_type": "markdown",
   "metadata": {
    "pycharm": {
     "name": "#%% md\n"
    }
   },
   "source": [
    "## 2、构造Sigmoid函数"
   ]
  },
  {
   "cell_type": "code",
   "execution_count": 2,
   "metadata": {
    "execution": {
     "iopub.execute_input": "2022-09-19T07:15:59.601005Z",
     "iopub.status.busy": "2022-09-19T07:15:59.600400Z",
     "iopub.status.idle": "2022-09-19T07:15:59.607057Z",
     "shell.execute_reply": "2022-09-19T07:15:59.605934Z",
     "shell.execute_reply.started": "2022-09-19T07:15:59.600968Z"
    },
    "pycharm": {
     "name": "#%%\n"
    }
   },
   "outputs": [],
   "source": [
    "def sigmoid(inX):\n",
    "    if inX >= 0:  #对sigmoid函数的优化，避免了出现极大的数据溢出\n",
    "        return 1.0 / (1 + exp(-inX))\n",
    "    else:\n",
    "        return exp(inX) / (1 + exp(inX))"
   ]
  },
  {
   "cell_type": "markdown",
   "metadata": {
    "pycharm": {
     "name": "#%% md\n"
    }
   },
   "source": [
    "## 3、随机梯度上升算法"
   ]
  },
  {
   "cell_type": "code",
   "execution_count": 3,
   "metadata": {
    "execution": {
     "iopub.execute_input": "2022-09-19T07:15:59.609121Z",
     "iopub.status.busy": "2022-09-19T07:15:59.608493Z",
     "iopub.status.idle": "2022-09-19T07:15:59.615150Z",
     "shell.execute_reply": "2022-09-19T07:15:59.614550Z",
     "shell.execute_reply.started": "2022-09-19T07:15:59.609088Z"
    },
    "pycharm": {
     "name": "#%%\n"
    }
   },
   "outputs": [],
   "source": [
    "# Logistic回归梯度上升优化算法\n",
    "def stocGradAscent1(dataMatrix, classLabels, numIter=150):\n",
    "    m, n = shape(dataMatrix)\n",
    "    weights = ones(n)  # initialize to all ones\n",
    "    for j in range(numIter):\n",
    "        dataIndex = list(range(m))\n",
    "        for i in range(m):\n",
    "            alpha = 4 / (1.0 + j + i) + 0.0001  # apha decreases with iteration， does not\n",
    "            randIndex = int(random.uniform(0, len(dataIndex)))  # go to 0 because of the constant\n",
    "            h = sigmoid(sum(dataMatrix[randIndex] * weights))\n",
    "            error = classLabels[randIndex] - h\n",
    "            weights = weights + alpha * error * dataMatrix[randIndex]\n",
    "            del (dataIndex[randIndex])\n",
    "    return weights\n",
    "\n",
    "# 这里的numIter是指迭代次数。"
   ]
  },
  {
   "cell_type": "markdown",
   "metadata": {
    "pycharm": {
     "name": "#%% md\n"
    }
   },
   "source": [
    "## 4、构造分类向量"
   ]
  },
  {
   "cell_type": "code",
   "execution_count": 4,
   "metadata": {
    "execution": {
     "iopub.execute_input": "2022-09-19T07:15:59.616517Z",
     "iopub.status.busy": "2022-09-19T07:15:59.616205Z",
     "iopub.status.idle": "2022-09-19T07:15:59.620547Z",
     "shell.execute_reply": "2022-09-19T07:15:59.619858Z",
     "shell.execute_reply.started": "2022-09-19T07:15:59.616495Z"
    },
    "pycharm": {
     "name": "#%%\n"
    }
   },
   "outputs": [],
   "source": [
    "def classifyVector(inX, weights):\n",
    "    prob = sigmoid(sum(inX * weights))\n",
    "    if prob > 0.5:\n",
    "        return 1.0\n",
    "    else:\n",
    "        return 0.0\n",
    "\n",
    "# 将sigmoid函数的输出值划分为两类，如果通过sigmoid函数运算之后的值大于0.5，则返回值为1，否则返回为0。这就实现了二分类。"
   ]
  },
  {
   "cell_type": "markdown",
   "metadata": {
    "pycharm": {
     "name": "#%% md\n"
    }
   },
   "source": [
    "## 5、打开测试集和训练集，并对数据进行格式化处理"
   ]
  },
  {
   "cell_type": "code",
   "execution_count": 5,
   "metadata": {
    "execution": {
     "iopub.execute_input": "2022-09-19T07:15:59.623263Z",
     "iopub.status.busy": "2022-09-19T07:15:59.622916Z",
     "iopub.status.idle": "2022-09-19T07:15:59.631426Z",
     "shell.execute_reply": "2022-09-19T07:15:59.630871Z",
     "shell.execute_reply.started": "2022-09-19T07:15:59.623237Z"
    },
    "pycharm": {
     "name": "#%%\n"
    }
   },
   "outputs": [],
   "source": [
    "def colicTest():\n",
    "    frTrain = open('./data/horseColicTraining.txt');\n",
    "    frtest = open('./data/horseColicTest.txt')\n",
    "    trainingSet = [];\n",
    "    trainingLabels = []\n",
    "    for line in frTrain.readlines():\n",
    "        currLine = line.strip().split('\\t')\n",
    "        lineArr = []\n",
    "        for i in range(21):\n",
    "            lineArr.append(float(currLine[i]))\n",
    "        trainingSet.append(lineArr)\n",
    "        trainingLabels.append(float(currLine[21]))\n",
    "\n",
    "    trainWeights = stocGradAscent1(array(trainingSet), trainingLabels, 1000)\n",
    "    errorCount = 0\n",
    "    numTestVec = 0.0\n",
    "\n",
    "    for line in frtest.readlines():\n",
    "        numTestVec += 1.0\n",
    "        currLine = line.strip().split('\\t')\n",
    "        lineArr = []\n",
    "        for i in range(21):\n",
    "            lineArr.append(float(currLine[i]))\n",
    "        if int(classifyVector(array(lineArr), trainWeights)) != int(currLine[21]):\n",
    "            errorCount += 1\n",
    "\n",
    "    errorRate = (float(errorCount) / numTestVec)\n",
    "    print(f\"the error rate of this test is: {errorRate}\")\n",
    "    return errorRate"
   ]
  },
  {
   "cell_type": "markdown",
   "metadata": {
    "pycharm": {
     "name": "#%% md\n"
    }
   },
   "source": [
    "使用open（），导入数据集。使用stocGradAscent1()方法实现梯度上升算法，对训练集进行训练，从而得到模型。再用测试集，通过分类方法classifyVector()对测试集上的数据进行分类，从而计算出错误率。"
   ]
  },
  {
   "cell_type": "markdown",
   "metadata": {
    "pycharm": {
     "name": "#%% md\n"
    }
   },
   "source": [
    "## 6、调用验证方法"
   ]
  },
  {
   "cell_type": "code",
   "execution_count": 6,
   "metadata": {
    "execution": {
     "iopub.execute_input": "2022-09-19T07:15:59.632961Z",
     "iopub.status.busy": "2022-09-19T07:15:59.632494Z",
     "iopub.status.idle": "2022-09-19T07:15:59.636824Z",
     "shell.execute_reply": "2022-09-19T07:15:59.636167Z",
     "shell.execute_reply.started": "2022-09-19T07:15:59.632937Z"
    },
    "pycharm": {
     "name": "#%%\n"
    }
   },
   "outputs": [],
   "source": [
    "def multiTest():\n",
    "    numTests = 10\n",
    "    errorSum = 0.0\n",
    "    for k in range(numTests):\n",
    "        errorSum += colicTest()\n",
    "    print(f\"after {numTests} iterations the average error rate is: {errorSum / float(numTests)}\")\n"
   ]
  },
  {
   "cell_type": "markdown",
   "metadata": {
    "pycharm": {
     "name": "#%% md\n"
    }
   },
   "source": [
    "## 7、主程序"
   ]
  },
  {
   "cell_type": "code",
   "execution_count": 7,
   "metadata": {
    "execution": {
     "iopub.execute_input": "2022-09-19T07:15:59.638256Z",
     "iopub.status.busy": "2022-09-19T07:15:59.637943Z",
     "iopub.status.idle": "2022-09-19T07:16:44.091908Z",
     "shell.execute_reply": "2022-09-19T07:16:44.091070Z",
     "shell.execute_reply.started": "2022-09-19T07:15:59.638231Z"
    },
    "pycharm": {
     "name": "#%%\n"
    }
   },
   "outputs": [
    {
     "name": "stdout",
     "output_type": "stream",
     "text": [
      "the error rate of this test is: 0.3880597014925373\n",
      "the error rate of this test is: 0.3582089552238806\n",
      "the error rate of this test is: 0.3283582089552239\n",
      "the error rate of this test is: 0.26865671641791045\n",
      "the error rate of this test is: 0.2835820895522388\n",
      "the error rate of this test is: 0.31343283582089554\n",
      "the error rate of this test is: 0.31343283582089554\n",
      "the error rate of this test is: 0.31343283582089554\n",
      "the error rate of this test is: 0.34328358208955223\n",
      "the error rate of this test is: 0.31343283582089554\n",
      "after 10 iterations the average error rate is: 0.3223880597014926\n"
     ]
    }
   ],
   "source": [
    "# 这里我们重复评估10次错误率，取平均值。\n",
    "multiTest()"
   ]
  },
  {
   "cell_type": "markdown",
   "metadata": {
    "pycharm": {
     "name": "#%% md\n"
    }
   },
   "source": []
  },
  {
   "cell_type": "markdown",
   "metadata": {
    "pycharm": {
     "name": "#%% md\n"
    }
   },
   "source": [
    "## 任务二\n",
    "使用sklearn里的乳腺癌数据集load_breast_cancer分析LogisticRegression。"
   ]
  },
  {
   "cell_type": "markdown",
   "metadata": {
    "pycharm": {
     "name": "#%% md\n"
    }
   },
   "source": [
    "## 1、导入所需库 "
   ]
  },
  {
   "cell_type": "code",
   "execution_count": 8,
   "metadata": {
    "execution": {
     "iopub.execute_input": "2022-09-19T07:16:44.092978Z",
     "iopub.status.busy": "2022-09-19T07:16:44.092761Z",
     "iopub.status.idle": "2022-09-19T07:16:45.078046Z",
     "shell.execute_reply": "2022-09-19T07:16:45.076906Z",
     "shell.execute_reply.started": "2022-09-19T07:16:44.092958Z"
    },
    "pycharm": {
     "name": "#%%\n"
    }
   },
   "outputs": [],
   "source": [
    "import matplotlib.pyplot as plt\n",
    "from sklearn.model_selection import train_test_split\n",
    "from sklearn.linear_model import LogisticRegression\n",
    "from sklearn.datasets import load_breast_cancer"
   ]
  },
  {
   "cell_type": "markdown",
   "metadata": {
    "pycharm": {
     "name": "#%% md\n"
    }
   },
   "source": [
    "## 2、训练数据集并进行测试"
   ]
  },
  {
   "cell_type": "code",
   "execution_count": 9,
   "metadata": {
    "execution": {
     "iopub.execute_input": "2022-09-19T07:16:45.079292Z",
     "iopub.status.busy": "2022-09-19T07:16:45.078993Z",
     "iopub.status.idle": "2022-09-19T07:16:45.111936Z",
     "shell.execute_reply": "2022-09-19T07:16:45.110179Z",
     "shell.execute_reply.started": "2022-09-19T07:16:45.079271Z"
    },
    "pycharm": {
     "name": "#%%\n"
    },
    "tags": []
   },
   "outputs": [
    {
     "name": "stdout",
     "output_type": "stream",
     "text": [
      "Training set score:0.953\n",
      "Test set score:0.958\n"
     ]
    }
   ],
   "source": [
    "cancer = load_breast_cancer()\n",
    "X_train, X_test, y_train, y_test = train_test_split(cancer.data, cancer.target, stratify=cancer.target, random_state=42)\n",
    "logreg = LogisticRegression(solver='liblinear').fit(X_train, y_train)\n",
    "print(\"Training set score:{:.3f}\".format(logreg.score(X_train, y_train)))\n",
    "print(\"Test set score:{:.3f}\".format(logreg.score(X_test, y_test)))\n",
    "\n",
    "# C=1 的默认值给出了相当好的性能，在训练集和测试集上都达到 95%的精度。但由于训练集和测试集的性能非常接近，所以模型很可能是欠拟合的。"
   ]
  },
  {
   "cell_type": "markdown",
   "metadata": {
    "pycharm": {
     "name": "#%% md\n"
    }
   },
   "source": [
    "## 3、比较不同正则化强度对结果的影响"
   ]
  },
  {
   "cell_type": "code",
   "execution_count": 10,
   "metadata": {
    "execution": {
     "iopub.execute_input": "2022-09-19T07:16:45.116098Z",
     "iopub.status.busy": "2022-09-19T07:16:45.114959Z",
     "iopub.status.idle": "2022-09-19T07:16:45.157567Z",
     "shell.execute_reply": "2022-09-19T07:16:45.156474Z",
     "shell.execute_reply.started": "2022-09-19T07:16:45.116029Z"
    },
    "pycharm": {
     "name": "#%%\n"
    }
   },
   "outputs": [
    {
     "name": "stdout",
     "output_type": "stream",
     "text": [
      "Training set score:0.974\n",
      "Test set score:0.965\n"
     ]
    }
   ],
   "source": [
    "# C==100\n",
    "logreg100 = LogisticRegression(C=100, solver='liblinear').fit(X_train, y_train)\n",
    "print(\"Training set score:{:.3f}\".format(logreg100.score(X_train, y_train)))\n",
    "print(\"Test set score:{:.3f}\".format(logreg100.score(X_test, y_test)))\n",
    "\n",
    "# 使用 C=100,可以得到更高的训练集精度，也得到了稍高的测试集精度，这也证实了我们的直觉，即更复杂的模型应该性能更好。"
   ]
  },
  {
   "cell_type": "code",
   "execution_count": 11,
   "metadata": {
    "execution": {
     "iopub.execute_input": "2022-09-19T07:16:45.160279Z",
     "iopub.status.busy": "2022-09-19T07:16:45.159669Z",
     "iopub.status.idle": "2022-09-19T07:16:45.181409Z",
     "shell.execute_reply": "2022-09-19T07:16:45.180458Z",
     "shell.execute_reply.started": "2022-09-19T07:16:45.160230Z"
    },
    "pycharm": {
     "name": "#%%\n"
    }
   },
   "outputs": [
    {
     "name": "stdout",
     "output_type": "stream",
     "text": [
      "Training set score:0.934\n",
      "Test set score:0.930\n"
     ]
    }
   ],
   "source": [
    "# 我们还可以研究使用正则化更强的模型时会发生什么。设置 C=0.01：\n",
    "# C=0.01\n",
    "logreg001 = LogisticRegression(C=0.01, solver='liblinear').fit(X_train, y_train)\n",
    "print(\"Training set score:{:.3f}\".format(logreg001.score(X_train, y_train)))\n",
    "print(\"Test set score:{:.3f}\".format(logreg001.score(X_test, y_test)))"
   ]
  },
  {
   "cell_type": "markdown",
   "metadata": {
    "pycharm": {
     "name": "#%% md\n"
    }
   },
   "source": [
    "## 4、可视化比较正则化参数 C 取三个不同的值时模型学到的系数"
   ]
  },
  {
   "cell_type": "code",
   "execution_count": 12,
   "metadata": {
    "execution": {
     "iopub.execute_input": "2022-09-19T07:16:45.184117Z",
     "iopub.status.busy": "2022-09-19T07:16:45.183421Z",
     "iopub.status.idle": "2022-09-19T07:16:45.491376Z",
     "shell.execute_reply": "2022-09-19T07:16:45.490407Z",
     "shell.execute_reply.started": "2022-09-19T07:16:45.184074Z"
    },
    "pycharm": {
     "name": "#%%\n"
    },
    "tags": []
   },
   "outputs": [
    {
     "data": {
      "text/plain": [
       "<matplotlib.legend.Legend at 0x7fd0df7cfca0>"
      ]
     },
     "execution_count": 12,
     "metadata": {},
     "output_type": "execute_result"
    },
    {
     "data": {
      "image/png": "[encoded data removed]",
      "text/plain": [
       "<Figure size 640x480 with 1 Axes>"
      ]
     },
     "metadata": {},
     "output_type": "display_data"
    }
   ],
   "source": [
    "# 最后，来看一下正则化参数 C 取三个不同的值时模型学到的系数。\n",
    "plt.plot(logreg.coef_.T, 'o', label=\"C=1\")\n",
    "plt.plot(logreg100.coef_.T, '^', label=\"C=100\")\n",
    "plt.plot(logreg001.coef_.T, 'v', label=\"C=0.001\")\n",
    "plt.xticks(range(cancer.data.shape[1]), cancer.feature_names, rotation=90)\n",
    "plt.hlines(0, 0, cancer.data.shape[1])\n",
    "plt.ylim(-5, 5)\n",
    "plt.xlabel(\"Coefficient index\")\n",
    "plt.ylabel(\" Coefficient magnitude\")\n",
    "plt.legend()\n"
   ]
  }
 ],
 "metadata": {
  "kernelspec": {
   "display_name": "Python 3 (ipykernel)",
   "language": "python",
   "name": "python3"
  },
  "language_info": {
   "codemirror_mode": {
    "name": "ipython",
    "version": 3
   },
   "file_extension": ".py",
   "mimetype": "text/x-python",
   "name": "python",
   "nbconvert_exporter": "python",
   "pygments_lexer": "ipython3",
   "version": "3.9.12"
  },
  "vscode": {
   "interpreter": {
    "hash": "19d1d53a962d236aa061289c2ac16dc8e6d9648c89fe79f459ae9a3493bc67b4"
   }
  },
  "widgets": {
   "application/vnd.jupyter.widget-state+json": {
    "state": {},
    "version_major": 2,
    "version_minor": 0
   }
  }
 },
 "nbformat": 4,
 "nbformat_minor": 4
}
