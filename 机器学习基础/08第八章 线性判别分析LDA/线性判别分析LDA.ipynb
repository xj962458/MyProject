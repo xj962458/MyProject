{
 "cells": [
  {
   "cell_type": "markdown",
   "metadata": {
    "pycharm": {
     "name": "#%% md\n"
    }
   },
   "source": [
    "* 任务一：对获取到的数据集进行预处理并提取特征。\n",
    "* 任务二：用LDA对数据集进行降维，并进行可视化分析。\n"
   ]
  },
  {
   "cell_type": "markdown",
   "metadata": {
    "pycharm": {
     "name": "#%% md\n"
    }
   },
   "source": [
    "## 1、获取鸢尾花数据集"
   ]
  },
  {
   "cell_type": "code",
   "execution_count": 1,
   "metadata": {
    "execution": {
     "iopub.execute_input": "2022-09-19T07:18:27.425794Z",
     "iopub.status.busy": "2022-09-19T07:18:27.425023Z",
     "iopub.status.idle": "2022-09-19T07:18:27.760229Z",
     "shell.execute_reply": "2022-09-19T07:18:27.759437Z",
     "shell.execute_reply.started": "2022-09-19T07:18:27.425636Z"
    },
    "pycharm": {
     "name": "#%%\n"
    }
   },
   "outputs": [
    {
     "data": {
      "text/html": [
       "<div>\n",
       "<style scoped>\n",
       "    .dataframe tbody tr th:only-of-type {\n",
       "        vertical-align: middle;\n",
       "    }\n",
       "\n",
       "    .dataframe tbody tr th {\n",
       "        vertical-align: top;\n",
       "    }\n",
       "\n",
       "    .dataframe thead th {\n",
       "        text-align: right;\n",
       "    }\n",
       "</style>\n",
       "<table border=\"1\" class=\"dataframe\">\n",
       "  <thead>\n",
       "    <tr style=\"text-align: right;\">\n",
       "      <th></th>\n",
       "      <th>sepal length in cm</th>\n",
       "      <th>sepal width in cm</th>\n",
       "      <th>petal length in cm</th>\n",
       "      <th>petal width in cm</th>\n",
       "      <th>class label</th>\n",
       "    </tr>\n",
       "  </thead>\n",
       "  <tbody>\n",
       "    <tr>\n",
       "      <th>145</th>\n",
       "      <td>6.7</td>\n",
       "      <td>3.0</td>\n",
       "      <td>5.2</td>\n",
       "      <td>2.3</td>\n",
       "      <td>Iris-virginica</td>\n",
       "    </tr>\n",
       "    <tr>\n",
       "      <th>146</th>\n",
       "      <td>6.3</td>\n",
       "      <td>2.5</td>\n",
       "      <td>5.0</td>\n",
       "      <td>1.9</td>\n",
       "      <td>Iris-virginica</td>\n",
       "    </tr>\n",
       "    <tr>\n",
       "      <th>147</th>\n",
       "      <td>6.5</td>\n",
       "      <td>3.0</td>\n",
       "      <td>5.2</td>\n",
       "      <td>2.0</td>\n",
       "      <td>Iris-virginica</td>\n",
       "    </tr>\n",
       "    <tr>\n",
       "      <th>148</th>\n",
       "      <td>6.2</td>\n",
       "      <td>3.4</td>\n",
       "      <td>5.4</td>\n",
       "      <td>2.3</td>\n",
       "      <td>Iris-virginica</td>\n",
       "    </tr>\n",
       "    <tr>\n",
       "      <th>149</th>\n",
       "      <td>5.9</td>\n",
       "      <td>3.0</td>\n",
       "      <td>5.1</td>\n",
       "      <td>1.8</td>\n",
       "      <td>Iris-virginica</td>\n",
       "    </tr>\n",
       "  </tbody>\n",
       "</table>\n",
       "</div>"
      ],
      "text/plain": [
       "     sepal length in cm  sepal width in cm  petal length in cm  \\\n",
       "145                 6.7                3.0                 5.2   \n",
       "146                 6.3                2.5                 5.0   \n",
       "147                 6.5                3.0                 5.2   \n",
       "148                 6.2                3.4                 5.4   \n",
       "149                 5.9                3.0                 5.1   \n",
       "\n",
       "     petal width in cm     class label  \n",
       "145                2.3  Iris-virginica  \n",
       "146                1.9  Iris-virginica  \n",
       "147                2.0  Iris-virginica  \n",
       "148                2.3  Iris-virginica  \n",
       "149                1.8  Iris-virginica  "
      ]
     },
     "execution_count": 1,
     "metadata": {},
     "output_type": "execute_result"
    }
   ],
   "source": [
    "import pandas as pd\n",
    "\n",
    "feature_dict = {i: label for i, label in zip(range(4),\n",
    "                                             ('sepal length in cm', 'sepal width in cm', 'petal length in cm',\n",
    "                                              'petal width in cm'))}\n",
    "df = pd.io.parsers.read_csv(\"./data/iris.data\", header=None, sep=',')\n",
    "df.columns = [l for i, l in sorted(feature_dict.items())] + ['class label']\n",
    "df.dropna(how=\"all\", inplace=True)\n",
    "df.tail(5)\n"
   ]
  },
  {
   "cell_type": "markdown",
   "metadata": {
    "pycharm": {
     "name": "#%% md\n"
    }
   },
   "source": [
    "## 2、将数据进行预处理，X表示特征，y表示标签"
   ]
  },
  {
   "cell_type": "code",
   "execution_count": 2,
   "metadata": {
    "execution": {
     "iopub.execute_input": "2022-09-19T07:18:27.762486Z",
     "iopub.status.busy": "2022-09-19T07:18:27.762248Z",
     "iopub.status.idle": "2022-09-19T07:18:28.156107Z",
     "shell.execute_reply": "2022-09-19T07:18:28.155256Z",
     "shell.execute_reply.started": "2022-09-19T07:18:27.762456Z"
    },
    "pycharm": {
     "name": "#%%\n"
    }
   },
   "outputs": [],
   "source": [
    "from sklearn.preprocessing import LabelEncoder\n",
    "\n",
    "X = df[['sepal length in cm', 'sepal width in cm',\n",
    "        'petal length in cm', 'petal width in cm']].values\n",
    "y = df['class label'].values\n",
    "enc = LabelEncoder()\n",
    "label_encoder = enc.fit(y)\n",
    "y = label_encoder.transform(y) + 1\n",
    "label_dict = {1: 'Setosa', 2: 'Versicolor', 3: 'Virginica'}"
   ]
  },
  {
   "cell_type": "markdown",
   "metadata": {
    "pycharm": {
     "name": "#%% md\n"
    }
   },
   "source": [
    "## 3、分别求三种鸢尾花数据在不同特征维度上的均值向量"
   ]
  },
  {
   "cell_type": "code",
   "execution_count": 3,
   "metadata": {
    "execution": {
     "iopub.execute_input": "2022-09-19T07:18:28.157351Z",
     "iopub.status.busy": "2022-09-19T07:18:28.157057Z",
     "iopub.status.idle": "2022-09-19T07:18:28.165064Z",
     "shell.execute_reply": "2022-09-19T07:18:28.164264Z",
     "shell.execute_reply.started": "2022-09-19T07:18:28.157329Z"
    },
    "pycharm": {
     "name": "#%%\n"
    }
   },
   "outputs": [
    {
     "name": "stdout",
     "output_type": "stream",
     "text": [
      "Mean Vector class 1:[5.006 3.418 1.464 0.244]\n",
      "Mean Vector class 2:[5.936 2.77  4.26  1.326]\n",
      "Mean Vector class 3:[6.588 2.974 5.552 2.026]\n"
     ]
    }
   ],
   "source": [
    "\n",
    "import numpy as np\n",
    "\n",
    "# 小数点后四位\n",
    "np.set_printoptions(precision=4)\n",
    "\n",
    "mean_vectors = []\n",
    "for cl in range(1, 4):\n",
    "    mean_vectors.append(np.mean(X[y == cl], axis=0))\n",
    "    print('Mean Vector class {}:{}'.format(cl, mean_vectors[cl - 1]))\n"
   ]
  },
  {
   "cell_type": "markdown",
   "metadata": {
    "pycharm": {
     "name": "#%% md\n"
    }
   },
   "source": [
    "## 4、分别计算类内散布矩阵和类间散布矩阵"
   ]
  },
  {
   "cell_type": "code",
   "execution_count": 4,
   "metadata": {
    "execution": {
     "iopub.execute_input": "2022-09-19T07:18:28.166246Z",
     "iopub.status.busy": "2022-09-19T07:18:28.166043Z",
     "iopub.status.idle": "2022-09-19T07:18:28.175148Z",
     "shell.execute_reply": "2022-09-19T07:18:28.174453Z",
     "shell.execute_reply.started": "2022-09-19T07:18:28.166227Z"
    },
    "pycharm": {
     "name": "#%%\n"
    }
   },
   "outputs": [
    {
     "name": "stdout",
     "output_type": "stream",
     "text": [
      "within-class Scatter Matrix:\n",
      " [[38.9562 13.683  24.614   5.6556]\n",
      " [13.683  17.035   8.12    4.9132]\n",
      " [24.614   8.12   27.22    6.2536]\n",
      " [ 5.6556  4.9132  6.2536  6.1756]]\n"
     ]
    }
   ],
   "source": [
    "\n",
    "# 类内散布矩阵：\n",
    "S_W = np.zeros((4, 4))\n",
    "for cl, mv in zip(range(1, 4), mean_vectors):\n",
    "    class_sc_mat = np.zeros((4, 4))\n",
    "    for row in X[y == cl]:\n",
    "        row, mv = row.reshape(4, 1), mv.reshape(4, 1)\n",
    "        class_sc_mat += (row - mv).dot((row - mv).T)\n",
    "    S_W += class_sc_mat\n",
    "print('within-class Scatter Matrix:\\n', S_W)\n"
   ]
  },
  {
   "cell_type": "code",
   "execution_count": 5,
   "metadata": {
    "execution": {
     "iopub.execute_input": "2022-09-19T07:18:28.178858Z",
     "iopub.status.busy": "2022-09-19T07:18:28.178527Z",
     "iopub.status.idle": "2022-09-19T07:18:28.185290Z",
     "shell.execute_reply": "2022-09-19T07:18:28.184285Z",
     "shell.execute_reply.started": "2022-09-19T07:18:28.178838Z"
    },
    "pycharm": {
     "name": "#%%\n"
    }
   },
   "outputs": [
    {
     "name": "stdout",
     "output_type": "stream",
     "text": [
      "between-class Scatter Matrix:\n",
      " [[ 63.2121 -19.534  165.1647  71.3631]\n",
      " [-19.534   10.9776 -56.0552 -22.4924]\n",
      " [165.1647 -56.0552 436.6437 186.9081]\n",
      " [ 71.3631 -22.4924 186.9081  80.6041]]\n"
     ]
    }
   ],
   "source": [
    "# 类间散布矩阵：\n",
    "overall_mean = np.mean(X, axis=0)\n",
    "S_B = np.zeros((4, 4))\n",
    "for i, mv in enumerate(mean_vectors):\n",
    "    n = X[y == i + 1, :].shape[0]\n",
    "    mv = mv.reshape(4, 1)\n",
    "    overall_mean = overall_mean.reshape(4, 1)\n",
    "    S_B += n * (mv - overall_mean).dot((mv - overall_mean).T)\n",
    "print('between-class Scatter Matrix:\\n', S_B)\n"
   ]
  },
  {
   "cell_type": "markdown",
   "metadata": {
    "pycharm": {
     "name": "#%% md\n"
    }
   },
   "source": [
    "## 5、求解矩阵的特征值"
   ]
  },
  {
   "cell_type": "code",
   "execution_count": 6,
   "metadata": {
    "execution": {
     "iopub.execute_input": "2022-09-19T07:18:28.186363Z",
     "iopub.status.busy": "2022-09-19T07:18:28.186151Z",
     "iopub.status.idle": "2022-09-19T07:18:28.194263Z",
     "shell.execute_reply": "2022-09-19T07:18:28.193237Z",
     "shell.execute_reply.started": "2022-09-19T07:18:28.186344Z"
    },
    "pycharm": {
     "name": "#%%\n"
    }
   },
   "outputs": [
    {
     "name": "stdout",
     "output_type": "stream",
     "text": [
      "\n",
      "Eigenvector 1:\n",
      "[[ 0.2049]\n",
      " [ 0.3871]\n",
      " [-0.5465]\n",
      " [-0.7138]]\n",
      "Eigenvalue 1:3.23e+01\n",
      "\n",
      "Eigenvector 2:\n",
      "[[-0.009 ]\n",
      " [-0.589 ]\n",
      " [ 0.2543]\n",
      " [-0.767 ]]\n",
      "Eigenvalue 2:2.78e-01\n",
      "\n",
      "Eigenvector 3:\n",
      "[[-0.2122]\n",
      " [-0.2111]\n",
      " [-0.2751]\n",
      " [ 0.767 ]]\n",
      "Eigenvalue 3:3.31e-15\n",
      "\n",
      "Eigenvector 4:\n",
      "[[-0.2122]\n",
      " [-0.2111]\n",
      " [-0.2751]\n",
      " [ 0.767 ]]\n",
      "Eigenvalue 4:3.31e-15\n"
     ]
    }
   ],
   "source": [
    "# linalg线性代数模块，eig求解特征值和特征向量，inv求解逆矩阵\n",
    "eig_vals, eig_vecs = np.linalg.eig(np.linalg.inv(S_W).dot(S_B))\n",
    "for i in range(len(eig_vals)):\n",
    "    eigvec_sc = eig_vecs[:, i].reshape(4, 1)\n",
    "    print('\\nEigenvector {}:\\n{}'.format(i + 1, eigvec_sc.real))\n",
    "    print('Eigenvalue {:}:{:.2e}'.format(i + 1, eig_vals[i].real))"
   ]
  },
  {
   "cell_type": "markdown",
   "metadata": {
    "pycharm": {
     "name": "#%% md\n"
    }
   },
   "source": [
    "## 6、按特征值大小进行排序"
   ]
  },
  {
   "cell_type": "code",
   "execution_count": 7,
   "metadata": {
    "execution": {
     "iopub.execute_input": "2022-09-19T07:18:28.195243Z",
     "iopub.status.busy": "2022-09-19T07:18:28.195028Z",
     "iopub.status.idle": "2022-09-19T07:18:28.200912Z",
     "shell.execute_reply": "2022-09-19T07:18:28.200293Z",
     "shell.execute_reply.started": "2022-09-19T07:18:28.195223Z"
    },
    "pycharm": {
     "name": "#%%\n"
    }
   },
   "outputs": [
    {
     "name": "stdout",
     "output_type": "stream",
     "text": [
      "Eigenvalues in decreasing order:\n",
      "32.2719577997298\n",
      "0.27756686384004753\n",
      "6.935906860079299e-15\n",
      "6.935906860079299e-15\n"
     ]
    }
   ],
   "source": [
    "eig_pairs = [(np.abs(eig_vals[i]), eig_vecs[:, i])\n",
    "             for i in range(len(eig_vals))]\n",
    "# Sort the (eigenvalue, eigenvector) tuples from high to low\n",
    "eig_pairs = sorted(eig_pairs, key=lambda k: k[0], reverse=True)\n",
    "\n",
    "print('Eigenvalues in decreasing order:')\n",
    "for i in eig_pairs:\n",
    "    print(i[0])\n"
   ]
  },
  {
   "cell_type": "markdown",
   "metadata": {
    "pycharm": {
     "name": "#%% md\n"
    }
   },
   "source": [
    "## 7、衡量特征值的重要程度"
   ]
  },
  {
   "cell_type": "code",
   "execution_count": 8,
   "metadata": {
    "execution": {
     "iopub.execute_input": "2022-09-19T07:18:28.201962Z",
     "iopub.status.busy": "2022-09-19T07:18:28.201750Z",
     "iopub.status.idle": "2022-09-19T07:18:28.206836Z",
     "shell.execute_reply": "2022-09-19T07:18:28.206222Z",
     "shell.execute_reply.started": "2022-09-19T07:18:28.201943Z"
    },
    "pycharm": {
     "name": "#%%\n"
    }
   },
   "outputs": [
    {
     "name": "stdout",
     "output_type": "stream",
     "text": [
      "Variance explained:\n",
      "eigenvalue 1: 99.15%\n",
      "eigenvalue 2: 0.85%\n",
      "eigenvalue 3: 0.00%\n",
      "eigenvalue 4: 0.00%\n"
     ]
    }
   ],
   "source": [
    "print('Variance explained:')\n",
    "eigv_sum = sum(eig_vals)\n",
    "for i, j in enumerate(eig_pairs):\n",
    "    print('eigenvalue {0:}: {1:.2%}'.format(i + 1, (j[0] / eigv_sum).real))\n"
   ]
  },
  {
   "cell_type": "markdown",
   "metadata": {
    "pycharm": {
     "name": "#%% md\n"
    }
   },
   "source": [
    "## 8、根据重要程度，选择前两维特征"
   ]
  },
  {
   "cell_type": "code",
   "execution_count": 9,
   "metadata": {
    "execution": {
     "iopub.execute_input": "2022-09-19T07:18:28.208206Z",
     "iopub.status.busy": "2022-09-19T07:18:28.207807Z",
     "iopub.status.idle": "2022-09-19T07:18:28.212647Z",
     "shell.execute_reply": "2022-09-19T07:18:28.212101Z",
     "shell.execute_reply.started": "2022-09-19T07:18:28.208186Z"
    },
    "pycharm": {
     "name": "#%%\n"
    }
   },
   "outputs": [
    {
     "name": "stdout",
     "output_type": "stream",
     "text": [
      "Matrix W:\n",
      " [[ 0.2049 -0.009 ]\n",
      " [ 0.3871 -0.589 ]\n",
      " [-0.5465  0.2543]\n",
      " [-0.7138 -0.767 ]]\n"
     ]
    }
   ],
   "source": [
    "W = np.hstack((eig_pairs[0][1].reshape(4, 1), eig_pairs[1][1].reshape(4, 1)))\n",
    "print('Matrix W:\\n', W.real)"
   ]
  },
  {
   "cell_type": "markdown",
   "metadata": {
    "pycharm": {
     "name": "#%% md\n"
    }
   },
   "source": [
    "## 9、降维"
   ]
  },
  {
   "cell_type": "code",
   "execution_count": 10,
   "metadata": {
    "execution": {
     "iopub.execute_input": "2022-09-19T07:18:28.214254Z",
     "iopub.status.busy": "2022-09-19T07:18:28.213810Z",
     "iopub.status.idle": "2022-09-19T07:18:28.217527Z",
     "shell.execute_reply": "2022-09-19T07:18:28.216956Z",
     "shell.execute_reply.started": "2022-09-19T07:18:28.214233Z"
    },
    "pycharm": {
     "name": "#%%\n"
    }
   },
   "outputs": [],
   "source": [
    "X_lda = X.dot(W)\n",
    "assert X_lda.shape == (150, 2), \"The matrix is not 150x2 dimensional.\""
   ]
  },
  {
   "cell_type": "markdown",
   "metadata": {
    "pycharm": {
     "name": "#%% md\n"
    }
   },
   "source": [
    "## 10、画图函数"
   ]
  },
  {
   "cell_type": "code",
   "execution_count": 11,
   "metadata": {
    "execution": {
     "iopub.execute_input": "2022-09-19T07:18:28.220691Z",
     "iopub.status.busy": "2022-09-19T07:18:28.219887Z",
     "iopub.status.idle": "2022-09-19T07:18:29.092817Z",
     "shell.execute_reply": "2022-09-19T07:18:29.092021Z",
     "shell.execute_reply.started": "2022-09-19T07:18:28.220639Z"
    },
    "pycharm": {
     "name": "#%%\n"
    }
   },
   "outputs": [
    {
     "data": {
      "image/png": "[encoded data removed]",
      "text/plain": [
       "<Figure size 640x480 with 1 Axes>"
      ]
     },
     "metadata": {},
     "output_type": "display_data"
    }
   ],
   "source": [
    "import matplotlib.pyplot as plt\n",
    "\n",
    "def plot_step_lda():\n",
    "    ax = plt.subplot(111)\n",
    "    for label, marker, color in zip(range(1, 4), ('^', 's', 'o'), ('blue', 'red', 'green')):\n",
    "        plt.scatter(x=X_lda[:, 0].real[y == label], y=X_lda[:, 1].real[y == label],\n",
    "                    marker=marker, color=color, alpha=0.5, label=label_dict[label])\n",
    "    plt.xlabel('LD1')\n",
    "    plt.ylabel('LD2')\n",
    "    leg = plt.legend(loc='upper right', fancybox=True)\n",
    "    leg.get_frame().set_alpha(0.5)\n",
    "    plt.title('LDA: Iris projection onto the first 2 linear discriminants ')\n",
    "    # hide axis ticks\n",
    "    plt.tick_params(axis=\"both\", which=\"both\", bottom=False, top=False,\n",
    "                    labelbottom=True, left=False, right=False, labelleft=True)\n",
    "    # remove axis spines\n",
    "    ax.spines[\"top\"].set_visible(False)\n",
    "    ax.spines[\"right\"].set_visible(False)\n",
    "    ax.spines[\"bottom\"].set_visible(False)\n",
    "    ax.spines[\"left\"].set_visible(False)\n",
    "    plt.grid()\n",
    "    plt.tight_layout\n",
    "    plt.show()\n",
    "\n",
    "\n",
    "plot_step_lda()\n"
   ]
  },
  {
   "cell_type": "markdown",
   "metadata": {
    "pycharm": {
     "name": "#%% md\n"
    }
   },
   "source": [
    "##  11、sklearn中的LDA降维"
   ]
  },
  {
   "cell_type": "code",
   "execution_count": 12,
   "metadata": {
    "execution": {
     "iopub.execute_input": "2022-09-19T07:18:29.094010Z",
     "iopub.status.busy": "2022-09-19T07:18:29.093721Z",
     "iopub.status.idle": "2022-09-19T07:18:29.127005Z",
     "shell.execute_reply": "2022-09-19T07:18:29.126301Z",
     "shell.execute_reply.started": "2022-09-19T07:18:29.093989Z"
    },
    "pycharm": {
     "name": "#%%\n"
    }
   },
   "outputs": [],
   "source": [
    "\n",
    "from sklearn.discriminant_analysis import LinearDiscriminantAnalysis as LDA\n",
    "\n",
    "#LDA\n",
    "sklearn_lda = LDA(n_components=2)\n",
    "X_lda_sklearn = sklearn_lda.fit_transform(X, y)"
   ]
  },
  {
   "cell_type": "code",
   "execution_count": 13,
   "metadata": {
    "execution": {
     "iopub.execute_input": "2022-09-19T07:18:29.128234Z",
     "iopub.status.busy": "2022-09-19T07:18:29.128020Z",
     "iopub.status.idle": "2022-09-19T07:18:29.302751Z",
     "shell.execute_reply": "2022-09-19T07:18:29.301766Z",
     "shell.execute_reply.started": "2022-09-19T07:18:29.128214Z"
    },
    "pycharm": {
     "name": "#%%\n"
    },
    "tags": []
   },
   "outputs": [
    {
     "data": {
      "image/png": "[encoded data removed]",
      "text/plain": [
       "<Figure size 640x480 with 1 Axes>"
      ]
     },
     "metadata": {},
     "output_type": "display_data"
    }
   ],
   "source": [
    "def plot_scikit_lda(X, title):\n",
    "    ax = plt.subplot(111)\n",
    "    for label, marker, color in zip(\n",
    "            range(1, 4), ('^', 's', 'o'), ('blue', 'red', 'green')):\n",
    "        plt.scatter(x=X[:, 0][y == label],\n",
    "                    y=X[:, 1][y == label] * -1,  # flip the figure\n",
    "                    marker=marker,\n",
    "                    color=color,\n",
    "                    alpha=0.5,\n",
    "                    label=label_dict[label])\n",
    "\n",
    "    plt.xlabel('LD1')\n",
    "    plt.ylabel('LD2')\n",
    "\n",
    "    leg = plt.legend(loc='upper right', fancybox=True)\n",
    "    leg.get_frame().set_alpha(0.5)\n",
    "    plt.title(title)\n",
    "\n",
    "    # hide axis ticks\n",
    "    plt.tick_params(axis=\"both\", which=\"both\", bottom=\"off\", top=\"off\",\n",
    "                    labelbottom=\"on\", left=\"off\", right=\"off\", labelleft=\"on\")\n",
    "\n",
    "    # remove axis spines\n",
    "    ax.spines[\"top\"].set_visible(False)\n",
    "    ax.spines[\"right\"].set_visible(False)\n",
    "    ax.spines[\"bottom\"].set_visible(False)\n",
    "    ax.spines[\"left\"].set_visible(False)\n",
    "\n",
    "    plt.grid()\n",
    "    plt.tight_layout\n",
    "    plt.show()\n",
    "\n",
    "\n",
    "plot_scikit_lda(X_lda_sklearn, title='Default LDA via scikit-learn')"
   ]
  }
 ],
 "metadata": {
  "kernelspec": {
   "display_name": "Python 3 (ipykernel)",
   "language": "python",
   "name": "python3"
  },
  "language_info": {
   "codemirror_mode": {
    "name": "ipython",
    "version": 3
   },
   "file_extension": ".py",
   "mimetype": "text/x-python",
   "name": "python",
   "nbconvert_exporter": "python",
   "pygments_lexer": "ipython3",
   "version": "3.9.12"
  },
  "vscode": {
   "interpreter": {
    "hash": "19d1d53a962d236aa061289c2ac16dc8e6d9648c89fe79f459ae9a3493bc67b4"
   }
  },
  "widgets": {
   "application/vnd.jupyter.widget-state+json": {
    "state": {},
    "version_major": 2,
    "version_minor": 0
   }
  }
 },
 "nbformat": 4,
 "nbformat_minor": 4
}
