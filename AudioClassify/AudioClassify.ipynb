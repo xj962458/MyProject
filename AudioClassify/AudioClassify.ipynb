{
 "cells": [
  {
   "cell_type": "code",
   "execution_count": 2,
   "id": "433c67a3-7f5e-42d0-949b-03e84c6c827c",
   "metadata": {},
   "outputs": [],
   "source": [
    "import os  # 用于获取文件路径\n",
    "import librosa  # 读取声音并获取mfcc特征\n",
    "import tqdm  # 用于进度条的生成\n",
    "import numpy as np  # 用于一些计算\n",
    "import pandas as pd  # 用于存储数据集\n",
    "from tensorflow import keras  # tensorflow的高级api，用于生成模型并训练\n",
    "from tensorflow.keras.layers import Conv2D, Flatten, Dense, MaxPool2D, Dropout  # 创建神经网络时需要一些层\n",
    "from sklearn.model_selection import train_test_split  # 用于划分数据集"
   ]
  },
  {
   "cell_type": "code",
   "execution_count": 3,
   "id": "91c48695-9907-49da-81c4-8c024a030344",
   "metadata": {},
   "outputs": [
    {
     "name": "stderr",
     "output_type": "stream",
     "text": [
      "100%|██████████| 39/39 [00:00<00:00, 44.51it/s]\n",
      "100%|██████████| 39/39 [00:00<00:00, 43.27it/s]\n",
      "100%|██████████| 39/39 [00:00<00:00, 44.84it/s]\n",
      "100%|██████████| 39/39 [00:00<00:00, 44.23it/s]\n",
      "100%|██████████| 39/39 [00:00<00:00, 43.39it/s]\n",
      "100%|██████████| 39/39 [00:00<00:00, 50.57it/s]\n",
      "100%|██████████| 39/39 [00:00<00:00, 45.38it/s]\n",
      "100%|██████████| 39/39 [00:00<00:00, 45.02it/s]\n",
      "100%|██████████| 39/39 [00:00<00:00, 51.45it/s]\n",
      "100%|██████████| 39/39 [00:00<00:00, 43.68it/s]\n"
     ]
    }
   ],
   "source": [
    "# 获取数据的路径并标注\n",
    "path = r\".\\data\"  # 数据集所在文件夹\n",
    "data = []  # 生成一个空列表，用于存储数据\n",
    "for i in os.listdir(path):  # 遍历根文件夹下的所有文件夹\n",
    "    for j in tqdm.tqdm(os.listdir(os.path.join(path, i))):  # 遍历子文件夹中的所有数据\n",
    "        filepath = os.path.join(path, i, j)  # 获取音频数据的完整路径\n",
    "        # 读取音频文件，获得音频数据和采样率\n",
    "        y, sr = librosa.load(filepath, sr=44100, res_type='kaiser_fast')\n",
    "        \n",
    "        input_len = sr * 5      # 5秒长度\n",
    "        if len(y) > input_len:  # 音频过长，裁剪\n",
    "            max_offset = len(y) - input_len\n",
    "            offset = np.random.randint(max_offset)\n",
    "            y = y[offset: (input_len + offset)]\n",
    "        elif input_len > len(y):  # 音频过短，填充\n",
    "            max_offset = input_len - len(y)\n",
    "            offset = np.random.randint(max_offset)\n",
    "            y = np.pad(y, (offset, input_len - len(y) - offset), \"constant\")\n",
    "\n",
    "        # 计算梅尔频谱(mel spectrogram),并把它作为特征\n",
    "        mels = np.mean(librosa.feature.melspectrogram(y=y, sr=sr).T, axis=0)\n",
    "        data.append([filepath, int(i[2])-1 if i[1] ==\n",
    "                    '0' else int(i[1:3])-1, mels])  # 添加到列表中去\n",
    "# 创建一个DataFrame用于存储数据集信息\n",
    "data = pd.DataFrame(data=data, columns=['文件路径', '类别', 'mfcc特征'])\n",
    "# 将数据集信息保存至csv文件中\n",
    "data.to_csv(\"./dataset.csv\", columns=['文件路径', '类别'], index=False)\n"
   ]
  },
  {
   "cell_type": "code",
   "execution_count": 4,
   "id": "cc586169-8ec2-41e8-a1e2-4837effd7ac9",
   "metadata": {},
   "outputs": [
    {
     "name": "stdout",
     "output_type": "stream",
     "text": [
      "训练集的大小 292\n",
      "测试集的大小 98\n"
     ]
    }
   ],
   "source": [
    "# 对数据集进行进一步处理，并将数据集划分为训练集和测试集\n",
    "X = np.vstack(data['mfcc特征'])  # 创建关于声音的mfcc特征的数据集\n",
    "X = X.reshape(-1, 16, 8, 1)     # 将特征值变为16*8*1的张量\n",
    "Y = keras.utils.to_categorical(data['类别'])  # 创建数据集的标签，并转化为onehot编码\n",
    "X_train, X_test, Y_train, Y_test = train_test_split(\n",
    "    X, Y, random_state=11)  # 划分数据集\n",
    "print('训练集的大小', len(X_train))\n",
    "print('测试集的大小', len(X_test))\n"
   ]
  },
  {
   "cell_type": "code",
   "execution_count": 5,
   "id": "c293a1f5-18aa-474b-8190-56fc82f649e0",
   "metadata": {},
   "outputs": [],
   "source": [
    "# 建立模型\n",
    "input_dim = (16, 8, 1)\n",
    "model = keras.models.Sequential()  # 建立神经网络\n",
    "model.add(Conv2D(64, (3, 3), padding=\"same\",\n",
    "          activation=\"tanh\", input_shape=input_dim))  # 添加卷积层\n",
    "model.add(MaxPool2D(pool_size=(2, 2)))  # 添加最大池化\n",
    "model.add(Conv2D(128, (3, 3), padding=\"same\", activation=\"tanh\"))  # 添加卷积层\n",
    "model.add(MaxPool2D(pool_size=(2, 2)))  # 添加最大池化层\n",
    "model.add(Dropout(0.1)) #舍弃一部分数据\n",
    "model.add(Flatten())  # 展开\n",
    "model.add(Dense(1024, activation=\"tanh\"))\n",
    "model.add(Dense(10, activation=\"softmax\"))  # 输出层：10个units输出10个类的概率\n"
   ]
  },
  {
   "cell_type": "code",
   "execution_count": 6,
   "id": "2e39ce69-8eae-42bb-8e5a-187881a24976",
   "metadata": {},
   "outputs": [],
   "source": [
    "# 编译模型，设置损失函数，优化方法以及评价标准\n",
    "model.compile(optimizer='adam', loss='categorical_crossentropy',\n",
    "              metrics=['accuracy'])\n"
   ]
  },
  {
   "cell_type": "code",
   "execution_count": 7,
   "id": "0e12b122-6e03-49e8-901a-8e3b9d0755bb",
   "metadata": {},
   "outputs": [
    {
     "name": "stdout",
     "output_type": "stream",
     "text": [
      "Epoch 1/50\n",
      "6/6 [==============================] - 1s 50ms/step - loss: 1.8969 - accuracy: 0.2979 - val_loss: 1.5974 - val_accuracy: 0.4388\n",
      "Epoch 2/50\n",
      "6/6 [==============================] - 0s 25ms/step - loss: 1.2541 - accuracy: 0.6267 - val_loss: 1.1475 - val_accuracy: 0.7041\n",
      "Epoch 3/50\n",
      "6/6 [==============================] - 0s 26ms/step - loss: 0.8841 - accuracy: 0.7637 - val_loss: 1.0873 - val_accuracy: 0.7041\n",
      "Epoch 4/50\n",
      "6/6 [==============================] - 0s 27ms/step - loss: 0.7412 - accuracy: 0.7363 - val_loss: 0.9192 - val_accuracy: 0.7041\n",
      "Epoch 5/50\n",
      "6/6 [==============================] - 0s 27ms/step - loss: 0.6053 - accuracy: 0.7877 - val_loss: 1.0259 - val_accuracy: 0.6939\n",
      "Epoch 6/50\n",
      "6/6 [==============================] - 0s 26ms/step - loss: 0.4895 - accuracy: 0.8390 - val_loss: 0.9299 - val_accuracy: 0.7347\n",
      "Epoch 7/50\n",
      "6/6 [==============================] - 0s 26ms/step - loss: 0.4116 - accuracy: 0.8596 - val_loss: 0.9692 - val_accuracy: 0.7245\n",
      "Epoch 8/50\n",
      "6/6 [==============================] - 0s 27ms/step - loss: 0.3865 - accuracy: 0.8664 - val_loss: 0.9745 - val_accuracy: 0.7041\n",
      "Epoch 9/50\n",
      "6/6 [==============================] - 0s 26ms/step - loss: 0.3392 - accuracy: 0.8699 - val_loss: 0.9523 - val_accuracy: 0.7245\n",
      "Epoch 10/50\n",
      "6/6 [==============================] - 0s 26ms/step - loss: 0.3086 - accuracy: 0.9007 - val_loss: 1.0496 - val_accuracy: 0.7245\n",
      "Epoch 11/50\n",
      "6/6 [==============================] - 0s 25ms/step - loss: 0.3018 - accuracy: 0.9007 - val_loss: 0.9400 - val_accuracy: 0.7245\n",
      "Epoch 12/50\n",
      "6/6 [==============================] - 0s 27ms/step - loss: 0.2679 - accuracy: 0.9178 - val_loss: 1.0014 - val_accuracy: 0.7347\n",
      "Epoch 13/50\n",
      "6/6 [==============================] - 0s 25ms/step - loss: 0.3033 - accuracy: 0.8836 - val_loss: 1.0662 - val_accuracy: 0.7041\n",
      "Epoch 14/50\n",
      "6/6 [==============================] - 0s 27ms/step - loss: 0.2554 - accuracy: 0.8870 - val_loss: 0.8829 - val_accuracy: 0.7551\n",
      "Epoch 15/50\n",
      "6/6 [==============================] - 0s 26ms/step - loss: 0.2679 - accuracy: 0.9110 - val_loss: 1.0959 - val_accuracy: 0.7143\n",
      "Epoch 16/50\n",
      "6/6 [==============================] - 0s 26ms/step - loss: 0.2197 - accuracy: 0.9281 - val_loss: 0.9642 - val_accuracy: 0.7653\n",
      "Epoch 17/50\n",
      "6/6 [==============================] - 0s 26ms/step - loss: 0.2102 - accuracy: 0.9178 - val_loss: 0.9785 - val_accuracy: 0.7245\n",
      "Epoch 18/50\n",
      "6/6 [==============================] - 0s 26ms/step - loss: 0.1828 - accuracy: 0.9384 - val_loss: 1.0121 - val_accuracy: 0.7347\n",
      "Epoch 19/50\n",
      "6/6 [==============================] - 0s 25ms/step - loss: 0.1617 - accuracy: 0.9555 - val_loss: 1.0593 - val_accuracy: 0.7245\n",
      "Epoch 20/50\n",
      "6/6 [==============================] - 0s 26ms/step - loss: 0.1613 - accuracy: 0.9418 - val_loss: 1.0561 - val_accuracy: 0.7041\n",
      "Epoch 21/50\n",
      "6/6 [==============================] - 0s 26ms/step - loss: 0.1732 - accuracy: 0.9144 - val_loss: 1.0324 - val_accuracy: 0.7347\n",
      "Epoch 22/50\n",
      "6/6 [==============================] - 0s 27ms/step - loss: 0.1461 - accuracy: 0.9486 - val_loss: 1.0396 - val_accuracy: 0.7857\n",
      "Epoch 23/50\n",
      "6/6 [==============================] - 0s 25ms/step - loss: 0.1406 - accuracy: 0.9623 - val_loss: 1.0966 - val_accuracy: 0.7347\n",
      "Epoch 24/50\n",
      "6/6 [==============================] - 0s 27ms/step - loss: 0.1294 - accuracy: 0.9658 - val_loss: 1.0833 - val_accuracy: 0.7041\n",
      "Epoch 25/50\n",
      "6/6 [==============================] - 0s 27ms/step - loss: 0.1224 - accuracy: 0.9589 - val_loss: 1.1356 - val_accuracy: 0.7347\n",
      "Epoch 26/50\n",
      "6/6 [==============================] - 0s 26ms/step - loss: 0.1194 - accuracy: 0.9623 - val_loss: 1.1259 - val_accuracy: 0.7449\n",
      "Epoch 27/50\n",
      "6/6 [==============================] - 0s 26ms/step - loss: 0.1076 - accuracy: 0.9623 - val_loss: 1.1110 - val_accuracy: 0.7245\n",
      "Epoch 28/50\n",
      "6/6 [==============================] - 0s 26ms/step - loss: 0.1092 - accuracy: 0.9658 - val_loss: 1.1651 - val_accuracy: 0.7347\n",
      "Epoch 29/50\n",
      "6/6 [==============================] - 0s 26ms/step - loss: 0.1038 - accuracy: 0.9760 - val_loss: 1.1527 - val_accuracy: 0.7449\n",
      "Epoch 30/50\n",
      "6/6 [==============================] - 0s 26ms/step - loss: 0.1005 - accuracy: 0.9658 - val_loss: 1.1783 - val_accuracy: 0.7245\n",
      "Epoch 31/50\n",
      "6/6 [==============================] - 0s 25ms/step - loss: 0.0949 - accuracy: 0.9760 - val_loss: 1.1733 - val_accuracy: 0.7347\n",
      "Epoch 32/50\n",
      "6/6 [==============================] - 0s 26ms/step - loss: 0.0936 - accuracy: 0.9726 - val_loss: 1.1546 - val_accuracy: 0.7551\n",
      "Epoch 33/50\n",
      "6/6 [==============================] - 0s 25ms/step - loss: 0.0929 - accuracy: 0.9623 - val_loss: 1.2334 - val_accuracy: 0.7347\n",
      "Epoch 34/50\n",
      "6/6 [==============================] - 0s 26ms/step - loss: 0.1072 - accuracy: 0.9623 - val_loss: 1.2196 - val_accuracy: 0.7449\n",
      "Epoch 35/50\n",
      "6/6 [==============================] - 0s 26ms/step - loss: 0.0990 - accuracy: 0.9589 - val_loss: 1.2183 - val_accuracy: 0.7449\n",
      "Epoch 36/50\n",
      "6/6 [==============================] - 0s 26ms/step - loss: 0.0856 - accuracy: 0.9760 - val_loss: 1.2019 - val_accuracy: 0.7449\n",
      "Epoch 37/50\n",
      "6/6 [==============================] - 0s 27ms/step - loss: 0.0856 - accuracy: 0.9589 - val_loss: 1.2187 - val_accuracy: 0.7551\n",
      "Epoch 38/50\n",
      "6/6 [==============================] - 0s 31ms/step - loss: 0.0842 - accuracy: 0.9760 - val_loss: 1.2491 - val_accuracy: 0.7041\n",
      "Epoch 39/50\n",
      "6/6 [==============================] - 0s 25ms/step - loss: 0.0825 - accuracy: 0.9623 - val_loss: 1.2796 - val_accuracy: 0.7245\n",
      "Epoch 40/50\n",
      "6/6 [==============================] - 0s 26ms/step - loss: 0.0738 - accuracy: 0.9829 - val_loss: 1.2667 - val_accuracy: 0.7653\n",
      "Epoch 41/50\n",
      "6/6 [==============================] - 0s 25ms/step - loss: 0.0756 - accuracy: 0.9829 - val_loss: 1.2936 - val_accuracy: 0.7551\n",
      "Epoch 42/50\n",
      "6/6 [==============================] - 0s 26ms/step - loss: 0.0704 - accuracy: 0.9726 - val_loss: 1.3122 - val_accuracy: 0.7347\n",
      "Epoch 43/50\n",
      "6/6 [==============================] - 0s 25ms/step - loss: 0.0626 - accuracy: 0.9829 - val_loss: 1.3276 - val_accuracy: 0.7347\n",
      "Epoch 44/50\n",
      "6/6 [==============================] - 0s 26ms/step - loss: 0.0660 - accuracy: 0.9863 - val_loss: 1.2976 - val_accuracy: 0.7245\n",
      "Epoch 45/50\n",
      "6/6 [==============================] - 0s 26ms/step - loss: 0.0686 - accuracy: 0.9658 - val_loss: 1.3207 - val_accuracy: 0.7449\n",
      "Epoch 46/50\n",
      "6/6 [==============================] - 0s 27ms/step - loss: 0.0613 - accuracy: 0.9726 - val_loss: 1.3457 - val_accuracy: 0.7551\n",
      "Epoch 47/50\n",
      "6/6 [==============================] - 0s 26ms/step - loss: 0.0615 - accuracy: 0.9760 - val_loss: 1.3476 - val_accuracy: 0.7551\n",
      "Epoch 48/50\n",
      "6/6 [==============================] - 0s 27ms/step - loss: 0.0588 - accuracy: 0.9829 - val_loss: 1.3761 - val_accuracy: 0.7347\n",
      "Epoch 49/50\n",
      "6/6 [==============================] - 0s 26ms/step - loss: 0.0624 - accuracy: 0.9692 - val_loss: 1.3335 - val_accuracy: 0.7551\n",
      "Epoch 50/50\n",
      "6/6 [==============================] - 0s 27ms/step - loss: 0.0594 - accuracy: 0.9829 - val_loss: 1.3101 - val_accuracy: 0.7449\n"
     ]
    },
    {
     "data": {
      "text/plain": [
       "<keras.callbacks.History at 0x2569cb4aac0>"
      ]
     },
     "execution_count": 7,
     "metadata": {},
     "output_type": "execute_result"
    }
   ],
   "source": [
    "# 训练模型\n",
    "model.fit(X_train, Y_train, epochs=50, batch_size=50,\n",
    "          validation_data=(X_test, Y_test))\n"
   ]
  },
  {
   "cell_type": "code",
   "execution_count": 7,
   "id": "1526380d-afee-468f-ae27-907a8d8af94c",
   "metadata": {},
   "outputs": [
    {
     "name": "stdout",
     "output_type": "stream",
     "text": [
      "INFO:tensorflow:Assets written to: Model\\assets\n"
     ]
    }
   ],
   "source": [
    "# 保存模型\n",
    "keras.models.save_model(model, \"Model\")\n"
   ]
  },
  {
   "cell_type": "code",
   "execution_count": 8,
   "id": "b0ec0b2d-872d-40bf-a8b0-eb1df298492a",
   "metadata": {},
   "outputs": [],
   "source": [
    "# 建立类别标签，不同类别对应不同的数字。\n",
    "label_dict = {0: \"Dog bark\", 1: \"Rain\", 2: \"Sea waves\", 3: \"Baby cry\", 4: \"Clock tick\",\n",
    "              5: \"Person sneeze\", 6: \"Helicopter\", 7: \"Chainsaw\", 8: \"Rooster\", 9: \"Fire crackling\"}\n"
   ]
  },
  {
   "cell_type": "code",
   "execution_count": 9,
   "id": "ccf6d37d-3a34-4b0f-9c83-9c35ec81f3fb",
   "metadata": {},
   "outputs": [
    {
     "name": "stdout",
     "output_type": "stream",
     "text": [
      "             实际类别            预测类别\n",
      "0      Clock tick      Clock tick\n",
      "1   Person sneeze   Person sneeze\n",
      "2      Clock tick      Helicopter\n",
      "3  Fire crackling  Fire crackling\n",
      "4   Person sneeze   Person sneeze\n",
      "预测结果已保存至./test_set_result.csv文件中，请查看！\n",
      "测试集准确率为72.45%\n"
     ]
    }
   ],
   "source": [
    "# 使用数据集对训练出的模型进行验证\n",
    "test_set_result = {\"实际类别\": [], \"预测类别\": []}  # 用于保存验证结果\n",
    "prediction = np.argmax(model.predict(X_test), axis=1)  # 使用模型进行验证,并将结果转换为正常编码\n",
    "init_result = np.argmax(Y_test, axis=1)  # 将验证集标签转换为正常编码\n",
    "correct = 0  # 用于统计错误的次数\n",
    "for i, j in zip(init_result, prediction):  # 遍历实际结果和预测结果,并将其放入到test_set_result字典中\n",
    "    test_set_result['实际类别'].append(label_dict[i])\n",
    "    test_set_result['预测类别'].append(label_dict[j])\n",
    "    if i == j:  # 统计错误率\n",
    "        correct = correct+1\n",
    "result=pd.DataFrame(test_set_result)\n",
    "print(result.head(5))\n",
    "result.to_csv(\"test_set_result.csv\", index=False)  # 将预测结果和实际结果写入到csv文件中\n",
    "print(\"预测结果已保存至./test_set_result.csv文件中，请查看！\")\n",
    "print(\"测试集准确率为{:.2%}\".format(correct/len(init_result)))  # 打印错误率\n"
   ]
  },
  {
   "cell_type": "code",
   "execution_count": 10,
   "id": "71b0caed-2208-4521-ba0c-3a0d91624973",
   "metadata": {},
   "outputs": [
    {
     "name": "stdout",
     "output_type": "stream",
     "text": [
      "Model: \"sequential\"\n",
      "_________________________________________________________________\n",
      "Layer (type)                 Output Shape              Param #   \n",
      "=================================================================\n",
      "conv2d (Conv2D)              (None, 16, 8, 64)         640       \n",
      "_________________________________________________________________\n",
      "max_pooling2d (MaxPooling2D) (None, 8, 4, 64)          0         \n",
      "_________________________________________________________________\n",
      "conv2d_1 (Conv2D)            (None, 8, 4, 128)         73856     \n",
      "_________________________________________________________________\n",
      "max_pooling2d_1 (MaxPooling2 (None, 4, 2, 128)         0         \n",
      "_________________________________________________________________\n",
      "dropout (Dropout)            (None, 4, 2, 128)         0         \n",
      "_________________________________________________________________\n",
      "flatten (Flatten)            (None, 1024)              0         \n",
      "_________________________________________________________________\n",
      "dense (Dense)                (None, 1024)              1049600   \n",
      "_________________________________________________________________\n",
      "dense_1 (Dense)              (None, 10)                10250     \n",
      "=================================================================\n",
      "Total params: 1,134,346\n",
      "Trainable params: 1,134,346\n",
      "Non-trainable params: 0\n",
      "_________________________________________________________________\n"
     ]
    }
   ],
   "source": [
    "model.summary()"
   ]
  }
 ],
 "metadata": {
  "interpreter": {
   "hash": "19d1d53a962d236aa061289c2ac16dc8e6d9648c89fe79f459ae9a3493bc67b4"
  },
  "kernelspec": {
   "display_name": "Python 3.9.7 ('base')",
   "language": "python",
   "name": "python3"
  },
  "language_info": {
   "codemirror_mode": {
    "name": "ipython",
    "version": 3
   },
   "file_extension": ".py",
   "mimetype": "text/x-python",
   "name": "python",
   "nbconvert_exporter": "python",
   "pygments_lexer": "ipython3",
   "version": "3.9.7"
  }
 },
 "nbformat": 4,
 "nbformat_minor": 5
}
