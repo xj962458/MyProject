{
 "cells": [
  {
   "cell_type": "markdown",
   "metadata": {},
   "source": [
    "## 此处代码将从豆瓣爬取的数据合并后随机打乱，选择长度大于10的数据存储到文件中，供数据库读取"
   ]
  },
  {
   "cell_type": "code",
   "execution_count": 19,
   "metadata": {},
   "outputs": [],
   "source": [
    "def read_data(file_path):\n",
    "    data=[]\n",
    "    with open(file_path,\"r\",encoding=\"utf-8\") as f:\n",
    "        lines=f.readlines()\n",
    "        data=[line.strip() for line in lines if len(line)>10]\n",
    "    return data"
   ]
  },
  {
   "cell_type": "code",
   "execution_count": 20,
   "metadata": {},
   "outputs": [],
   "source": [
    "import glob\n",
    "import random\n",
    "\n",
    "data=[]\n",
    "for file_path in glob.glob(\"./*-reviews.txt\"):\n",
    "    data.extend(read_data(file_path))\n",
    "random.shuffle(data)\n",
    "with open(\"./reviews.txt\",\"w\",encoding=\"utf-8\") as f:\n",
    "    f.write(\"\\n\".join(data))"
   ]
  }
 ],
 "metadata": {
  "kernelspec": {
   "display_name": "Python 3.9.12 ('base')",
   "language": "python",
   "name": "python3"
  },
  "language_info": {
   "codemirror_mode": {
    "name": "ipython",
    "version": 3
   },
   "file_extension": ".py",
   "mimetype": "text/x-python",
   "name": "python",
   "nbconvert_exporter": "python",
   "pygments_lexer": "ipython3",
   "version": "3.9.12"
  },
  "orig_nbformat": 4,
  "vscode": {
   "interpreter": {
    "hash": "19d1d53a962d236aa061289c2ac16dc8e6d9648c89fe79f459ae9a3493bc67b4"
   }
  }
 },
 "nbformat": 4,
 "nbformat_minor": 2
}
